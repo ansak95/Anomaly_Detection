{
 "cells": [
  {
   "cell_type": "markdown",
   "metadata": {},
   "source": [
    "# Fraud Detection DATA 1"
   ]
  },
  {
   "cell_type": "code",
   "execution_count": 4,
   "metadata": {},
   "outputs": [],
   "source": [
    "#http://colingorrie.github.io/outlier-detection.html#z-score-method\n",
    "\n",
    "# Importing the Keras libraries and packages\n",
    "#from keras.models import Sequential\n",
    "#from keras.layers import Dense, Dropout\n",
    "#from keras.wrappers.scikit_learn import KerasClassifier\n",
    "#from sklearn.model_selection import cross_val_score, GridSearchCV\n",
    "from sklearn.preprocessing import StandardScaler, Normalizer, MinMaxScaler\n",
    "from sklearn.metrics import confusion_matrix,classification_report\n",
    "\n",
    "import matplotlib.patches as mpatches\n",
    "import pandas as pd\n",
    "import time\n",
    "#from sklearn.manifold  import TSNE\n",
    "from sklearn.decomposition import PCA\n",
    "\n",
    "import random\n",
    "from IPython.display import display\n",
    "import matplotlib.pyplot as plt\n",
    "import seaborn as sns\n",
    "import pandas as pd\n",
    "import numpy as np\n",
    "import warnings \n",
    "%matplotlib inline\n",
    "warnings.filterwarnings(\"ignore\")\n",
    "pd.set_option('display.max_columns', None)\n",
    "\n",
    "#from diversipy import *\n",
    "#import umap\n",
    "from mpl_toolkits.mplot3d import Axes3D\n",
    "\n",
    "#import umap.umap_ as umap\n"
   ]
  },
  {
   "cell_type": "code",
   "execution_count": 5,
   "metadata": {},
   "outputs": [],
   "source": [
    "#!pip install jupyterthemes\n",
    "#!pip install nodejs"
   ]
  },
  {
   "cell_type": "code",
   "execution_count": 6,
   "metadata": {},
   "outputs": [],
   "source": [
    "def prep_data(data) : \n",
    "    data_bis = data\n",
    "    print(data.columns)\n",
    "    print(data.shape)\n",
    "    display(data.head(5)) \n",
    "    \n",
    "    #Calcul Pctage d'individus frauduleux\n",
    "    Pctage_Fraud=(len(data[data.iloc[:,-1]>0])/len(data))*100\n",
    "    #print(\"Le pourcentage d'individus frauduleux dans notre dataset est de\", round(Pctage_Fraud,1),\"%\")\n",
    "    print(\"Le pourcentage d'individus frauduleux dans notre dataset est de : %.2f \" % (Pctage_Fraud), \n",
    "          \"%, soit\", len(data[data.iloc[:,-1]>0]), \"individus frauduleux.\")\n",
    "    \n",
    "    # Differentiate numerical features (minus the target) and categorical features\n",
    "    categorical_features = data.select_dtypes(include = [\"object\"]).columns\n",
    "    numerical_features = data.select_dtypes(exclude = [\"object\"]).columns\n",
    "    print(\"Numerical features : \" + str(len(numerical_features)))\n",
    "    print(\"Categorical features : \" + str(len(categorical_features)))\n",
    "    \n",
    "    #if numerical_transformation = True : ou if len(Categorical Features) !=0\n",
    "    #...\n",
    "    Target=data.iloc[:,-1]\n",
    "    data = data.drop([data.columns[-1]], axis=1) #retire la derniere colonne\n",
    "    data = data.drop([data.columns[0]], axis=1) #retire la colonne 'Time'\n",
    "    \n",
    "    #Standardisation de nos données (centrées réduites)\n",
    "    scaler2 = StandardScaler()\n",
    "    data_temp=pd.DataFrame(scaler2.fit_transform(data.loc[:,:]))#[\"Amount\"]]))\n",
    "    data_std=data.copy()\n",
    "    data_std.loc[:,:]=data_temp.values\n",
    "    \n",
    "    #Normalisation de nos données \n",
    "    scaler = MinMaxScaler()\n",
    "    #data_nrm=pd.DataFrame(scaler.fit_transform(data))\n",
    "    data_temp2=pd.DataFrame(scaler.fit_transform(data.loc[:,:]))\n",
    "    data_nrm=data.copy()\n",
    "    data_nrm.loc[:,:]=data_temp2.values\n",
    "    \n",
    "    #data_nrm.columns=data.columns\n",
    "    \n",
    "    display(data_std.head(5))\n",
    "    display(data_nrm.head(5))\n",
    "    return data_std, data_nrm, Target\n",
    "\n",
    "    "
   ]
  },
  {
   "cell_type": "code",
   "execution_count": null,
   "metadata": {},
   "outputs": [],
   "source": []
  },
  {
   "cell_type": "code",
   "execution_count": 7,
   "metadata": {},
   "outputs": [],
   "source": [
    "def viz_data(data_init, data, n_comp, Target) :\n",
    "    # PCA Implementation\n",
    "    t0 = time.time()\n",
    "    pca = PCA(n_components=n_comp, random_state=42)\n",
    "    X_reduced_pca = pca.fit_transform(data.values)\n",
    "    t1 = time.time()\n",
    "    print(\"PCA took {:.2} s\".format(t1 - t0))\n",
    "    \n",
    "    X_reduced_pca = pd.DataFrame(X_reduced_pca)\n",
    "    X_fraud_pca=np.array(X_reduced_pca.loc[np.array(data_init.Class)==1])  #pbs au niveau de l'index...\n",
    "    X_no_fraud_pca=np.array(X_reduced_pca.loc[np.array(data_init.Class)==0])\n",
    "    features = range(pca.n_components_)\n",
    "    print('Explained variance: %.4f' % pca.explained_variance_ratio_.sum())\n",
    "    \n",
    "\n",
    "    # Umap Implementation\n",
    "    t0 = time.time()\n",
    "    reducer = umap.UMAP(n_components=3, random_state=42,n_epochs=300, min_dist=0.001, n_neighbors=1000)\n",
    "    embedding = reducer.fit_transform(data_std)\n",
    "    t1 = time.time()\n",
    "    print(\"UMAP took {:.2} s\".format(t1 - t0))\n",
    "    \n",
    "    embedding = pd.DataFrame(embedding)\n",
    "    X_fraud_umap=np.array(embedding.loc[np.array(data_init.Class)==1])\n",
    "    X_no_fraud_umap=np.array(embedding.loc[np.array(data_init.Class)==0])\n",
    "\n",
    "    \n",
    "    \n",
    "    #Plot\n",
    "    \n",
    "    fig = plt.figure(figsize=(24,6))\n",
    "    fig.suptitle('Clusters using Dimensionality Reduction', fontsize=20)\n",
    "\n",
    "    y= Target\n",
    "    blue_patch = mpatches.Patch(color='green', label='No Fraud')\n",
    "    red_patch = mpatches.Patch(color='red', label='Fraud')\n",
    "\n",
    "\n",
    "\n",
    "\n",
    "    # PCA scatter plot\n",
    "    ax2=fig.add_subplot(1, 2, 1, projection='3d')\n",
    "\n",
    "    ax2.scatter(X_reduced_pca[np.array(Target)==0][0], X_reduced_pca[np.array(Target)==0][1], X_reduced_pca[np.array(Target)==0][2], c='g', marker='o')\n",
    "    ax2.scatter(X_reduced_pca[np.array(Target)==1][0], X_reduced_pca[np.array(Target)==1][1], X_reduced_pca[np.array(Target)==1][2], c='r', marker='^')\n",
    "    ax2.set_title('PCA', fontsize=14)\n",
    "    ax2.grid(True)\n",
    "    ax2.legend(handles=[blue_patch, red_patch])\n",
    "\n",
    "    \n",
    "    \n",
    "    # UMAP scatter plot\n",
    "    ax1=fig.add_subplot(1, 2, 2, projection='3d')\n",
    "    ax1.scatter(embedding[np.array(Target)==0][0],embedding[np.array(Target)==0][1],embedding[np.array(Target)==0][2], c='g', marker = \"^\");\n",
    "    ax1.scatter(embedding[np.array(Target)==1][0],embedding[np.array(Target)==1][1],embedding[np.array(Target)==1][2], c='r', marker = \"o\");\n",
    "    ax1.set_title('UMAP', fontsize=14)\n",
    "\n",
    "    ax1.grid(True)\n",
    "\n",
    "    ax1.legend(handles=[blue_patch, red_patch])\n",
    "\n",
    "    \n",
    "\n",
    "    plt.show()\n",
    "    return embedding"
   ]
  },
  {
   "cell_type": "code",
   "execution_count": 11,
   "metadata": {},
   "outputs": [
    {
     "name": "stdout",
     "output_type": "stream",
     "text": [
      "Index(['Time', 'V1', 'V2', 'V3', 'V4', 'V5', 'V6', 'V7', 'V8', 'V9', 'V10',\n",
      "       'V11', 'V12', 'V13', 'V14', 'V15', 'V16', 'V17', 'V18', 'V19', 'V20',\n",
      "       'V21', 'V22', 'V23', 'V24', 'V25', 'V26', 'V27', 'V28', 'Amount',\n",
      "       'Class'],\n",
      "      dtype='object')\n",
      "(15492, 31)\n"
     ]
    },
    {
     "data": {
      "text/html": [
       "<div>\n",
       "<style scoped>\n",
       "    .dataframe tbody tr th:only-of-type {\n",
       "        vertical-align: middle;\n",
       "    }\n",
       "\n",
       "    .dataframe tbody tr th {\n",
       "        vertical-align: top;\n",
       "    }\n",
       "\n",
       "    .dataframe thead th {\n",
       "        text-align: right;\n",
       "    }\n",
       "</style>\n",
       "<table border=\"1\" class=\"dataframe\">\n",
       "  <thead>\n",
       "    <tr style=\"text-align: right;\">\n",
       "      <th></th>\n",
       "      <th>Time</th>\n",
       "      <th>V1</th>\n",
       "      <th>V2</th>\n",
       "      <th>V3</th>\n",
       "      <th>V4</th>\n",
       "      <th>V5</th>\n",
       "      <th>V6</th>\n",
       "      <th>V7</th>\n",
       "      <th>V8</th>\n",
       "      <th>V9</th>\n",
       "      <th>V10</th>\n",
       "      <th>V11</th>\n",
       "      <th>V12</th>\n",
       "      <th>V13</th>\n",
       "      <th>V14</th>\n",
       "      <th>V15</th>\n",
       "      <th>V16</th>\n",
       "      <th>V17</th>\n",
       "      <th>V18</th>\n",
       "      <th>V19</th>\n",
       "      <th>V20</th>\n",
       "      <th>V21</th>\n",
       "      <th>V22</th>\n",
       "      <th>V23</th>\n",
       "      <th>V24</th>\n",
       "      <th>V25</th>\n",
       "      <th>V26</th>\n",
       "      <th>V27</th>\n",
       "      <th>V28</th>\n",
       "      <th>Amount</th>\n",
       "      <th>Class</th>\n",
       "    </tr>\n",
       "  </thead>\n",
       "  <tbody>\n",
       "    <tr>\n",
       "      <td>50159</td>\n",
       "      <td>44375.0</td>\n",
       "      <td>-0.501461</td>\n",
       "      <td>1.033110</td>\n",
       "      <td>-0.771843</td>\n",
       "      <td>-0.751694</td>\n",
       "      <td>2.387837</td>\n",
       "      <td>3.243995</td>\n",
       "      <td>-0.033690</td>\n",
       "      <td>1.193944</td>\n",
       "      <td>-1.075520</td>\n",
       "      <td>-0.441131</td>\n",
       "      <td>-0.369308</td>\n",
       "      <td>-0.193099</td>\n",
       "      <td>-0.012690</td>\n",
       "      <td>0.840162</td>\n",
       "      <td>1.067687</td>\n",
       "      <td>0.074680</td>\n",
       "      <td>-0.362372</td>\n",
       "      <td>0.266819</td>\n",
       "      <td>1.078921</td>\n",
       "      <td>0.037373</td>\n",
       "      <td>0.042984</td>\n",
       "      <td>-0.121933</td>\n",
       "      <td>-0.164842</td>\n",
       "      <td>1.042539</td>\n",
       "      <td>-0.037219</td>\n",
       "      <td>0.407771</td>\n",
       "      <td>-0.034320</td>\n",
       "      <td>0.060322</td>\n",
       "      <td>2.50</td>\n",
       "      <td>0</td>\n",
       "    </tr>\n",
       "    <tr>\n",
       "      <td>154678</td>\n",
       "      <td>102556.0</td>\n",
       "      <td>-0.121865</td>\n",
       "      <td>0.845990</td>\n",
       "      <td>1.140205</td>\n",
       "      <td>0.044012</td>\n",
       "      <td>0.271521</td>\n",
       "      <td>-0.786730</td>\n",
       "      <td>0.601516</td>\n",
       "      <td>-0.202985</td>\n",
       "      <td>0.890406</td>\n",
       "      <td>-0.757596</td>\n",
       "      <td>0.281810</td>\n",
       "      <td>-2.861960</td>\n",
       "      <td>1.224448</td>\n",
       "      <td>1.873817</td>\n",
       "      <td>0.433861</td>\n",
       "      <td>-0.104854</td>\n",
       "      <td>0.583561</td>\n",
       "      <td>-0.256743</td>\n",
       "      <td>0.771315</td>\n",
       "      <td>-0.020653</td>\n",
       "      <td>-0.496925</td>\n",
       "      <td>-1.275020</td>\n",
       "      <td>0.265857</td>\n",
       "      <td>-0.124667</td>\n",
       "      <td>-1.144067</td>\n",
       "      <td>0.105936</td>\n",
       "      <td>0.095161</td>\n",
       "      <td>0.175429</td>\n",
       "      <td>12.08</td>\n",
       "      <td>0</td>\n",
       "    </tr>\n",
       "    <tr>\n",
       "      <td>228087</td>\n",
       "      <td>145355.0</td>\n",
       "      <td>-0.327123</td>\n",
       "      <td>1.028451</td>\n",
       "      <td>-0.698173</td>\n",
       "      <td>-0.783012</td>\n",
       "      <td>1.138027</td>\n",
       "      <td>-0.297648</td>\n",
       "      <td>0.764887</td>\n",
       "      <td>0.091936</td>\n",
       "      <td>0.075245</td>\n",
       "      <td>-0.228865</td>\n",
       "      <td>0.666249</td>\n",
       "      <td>0.164388</td>\n",
       "      <td>-0.604526</td>\n",
       "      <td>-0.829770</td>\n",
       "      <td>-0.768727</td>\n",
       "      <td>0.576380</td>\n",
       "      <td>0.054016</td>\n",
       "      <td>0.359579</td>\n",
       "      <td>0.115727</td>\n",
       "      <td>0.069682</td>\n",
       "      <td>-0.343488</td>\n",
       "      <td>-0.823398</td>\n",
       "      <td>0.177247</td>\n",
       "      <td>0.094862</td>\n",
       "      <td>-0.368996</td>\n",
       "      <td>0.121520</td>\n",
       "      <td>0.205445</td>\n",
       "      <td>0.121983</td>\n",
       "      <td>0.89</td>\n",
       "      <td>0</td>\n",
       "    </tr>\n",
       "    <tr>\n",
       "      <td>139024</td>\n",
       "      <td>82969.0</td>\n",
       "      <td>-0.641516</td>\n",
       "      <td>0.740559</td>\n",
       "      <td>1.819383</td>\n",
       "      <td>-1.181768</td>\n",
       "      <td>-0.433095</td>\n",
       "      <td>-1.270845</td>\n",
       "      <td>0.603549</td>\n",
       "      <td>-0.033709</td>\n",
       "      <td>0.061569</td>\n",
       "      <td>-0.714904</td>\n",
       "      <td>-0.308359</td>\n",
       "      <td>-0.297780</td>\n",
       "      <td>-0.737749</td>\n",
       "      <td>0.104340</td>\n",
       "      <td>0.558123</td>\n",
       "      <td>0.536971</td>\n",
       "      <td>-0.516981</td>\n",
       "      <td>-0.368861</td>\n",
       "      <td>-0.806332</td>\n",
       "      <td>-0.008220</td>\n",
       "      <td>-0.064958</td>\n",
       "      <td>-0.182915</td>\n",
       "      <td>-0.010978</td>\n",
       "      <td>0.726218</td>\n",
       "      <td>-0.407229</td>\n",
       "      <td>0.700886</td>\n",
       "      <td>0.252187</td>\n",
       "      <td>0.176762</td>\n",
       "      <td>8.76</td>\n",
       "      <td>0</td>\n",
       "    </tr>\n",
       "    <tr>\n",
       "      <td>36045</td>\n",
       "      <td>38375.0</td>\n",
       "      <td>-12.320863</td>\n",
       "      <td>-8.782818</td>\n",
       "      <td>-3.362845</td>\n",
       "      <td>1.116188</td>\n",
       "      <td>-5.117401</td>\n",
       "      <td>2.522210</td>\n",
       "      <td>3.616290</td>\n",
       "      <td>-0.469529</td>\n",
       "      <td>0.826156</td>\n",
       "      <td>0.875103</td>\n",
       "      <td>1.500792</td>\n",
       "      <td>0.332644</td>\n",
       "      <td>0.559253</td>\n",
       "      <td>-1.081637</td>\n",
       "      <td>-0.048095</td>\n",
       "      <td>2.290383</td>\n",
       "      <td>0.526709</td>\n",
       "      <td>-2.213866</td>\n",
       "      <td>0.642120</td>\n",
       "      <td>-6.037317</td>\n",
       "      <td>-1.826445</td>\n",
       "      <td>0.573806</td>\n",
       "      <td>-0.402723</td>\n",
       "      <td>0.123906</td>\n",
       "      <td>0.695703</td>\n",
       "      <td>-0.437249</td>\n",
       "      <td>-2.817798</td>\n",
       "      <td>3.252350</td>\n",
       "      <td>628.75</td>\n",
       "      <td>0</td>\n",
       "    </tr>\n",
       "  </tbody>\n",
       "</table>\n",
       "</div>"
      ],
      "text/plain": [
       "            Time         V1        V2        V3        V4        V5        V6  \\\n",
       "50159    44375.0  -0.501461  1.033110 -0.771843 -0.751694  2.387837  3.243995   \n",
       "154678  102556.0  -0.121865  0.845990  1.140205  0.044012  0.271521 -0.786730   \n",
       "228087  145355.0  -0.327123  1.028451 -0.698173 -0.783012  1.138027 -0.297648   \n",
       "139024   82969.0  -0.641516  0.740559  1.819383 -1.181768 -0.433095 -1.270845   \n",
       "36045    38375.0 -12.320863 -8.782818 -3.362845  1.116188 -5.117401  2.522210   \n",
       "\n",
       "              V7        V8        V9       V10       V11       V12       V13  \\\n",
       "50159  -0.033690  1.193944 -1.075520 -0.441131 -0.369308 -0.193099 -0.012690   \n",
       "154678  0.601516 -0.202985  0.890406 -0.757596  0.281810 -2.861960  1.224448   \n",
       "228087  0.764887  0.091936  0.075245 -0.228865  0.666249  0.164388 -0.604526   \n",
       "139024  0.603549 -0.033709  0.061569 -0.714904 -0.308359 -0.297780 -0.737749   \n",
       "36045   3.616290 -0.469529  0.826156  0.875103  1.500792  0.332644  0.559253   \n",
       "\n",
       "             V14       V15       V16       V17       V18       V19       V20  \\\n",
       "50159   0.840162  1.067687  0.074680 -0.362372  0.266819  1.078921  0.037373   \n",
       "154678  1.873817  0.433861 -0.104854  0.583561 -0.256743  0.771315 -0.020653   \n",
       "228087 -0.829770 -0.768727  0.576380  0.054016  0.359579  0.115727  0.069682   \n",
       "139024  0.104340  0.558123  0.536971 -0.516981 -0.368861 -0.806332 -0.008220   \n",
       "36045  -1.081637 -0.048095  2.290383  0.526709 -2.213866  0.642120 -6.037317   \n",
       "\n",
       "             V21       V22       V23       V24       V25       V26       V27  \\\n",
       "50159   0.042984 -0.121933 -0.164842  1.042539 -0.037219  0.407771 -0.034320   \n",
       "154678 -0.496925 -1.275020  0.265857 -0.124667 -1.144067  0.105936  0.095161   \n",
       "228087 -0.343488 -0.823398  0.177247  0.094862 -0.368996  0.121520  0.205445   \n",
       "139024 -0.064958 -0.182915 -0.010978  0.726218 -0.407229  0.700886  0.252187   \n",
       "36045  -1.826445  0.573806 -0.402723  0.123906  0.695703 -0.437249 -2.817798   \n",
       "\n",
       "             V28  Amount  Class  \n",
       "50159   0.060322    2.50      0  \n",
       "154678  0.175429   12.08      0  \n",
       "228087  0.121983    0.89      0  \n",
       "139024  0.176762    8.76      0  \n",
       "36045   3.252350  628.75      0  "
      ]
     },
     "metadata": {},
     "output_type": "display_data"
    },
    {
     "name": "stdout",
     "output_type": "stream",
     "text": [
      "Le pourcentage d'individus frauduleux dans notre dataset est de : 3.18  %, soit 492 individus frauduleux.\n",
      "Numerical features : 31\n",
      "Categorical features : 0\n"
     ]
    },
    {
     "data": {
      "text/html": [
       "<div>\n",
       "<style scoped>\n",
       "    .dataframe tbody tr th:only-of-type {\n",
       "        vertical-align: middle;\n",
       "    }\n",
       "\n",
       "    .dataframe tbody tr th {\n",
       "        vertical-align: top;\n",
       "    }\n",
       "\n",
       "    .dataframe thead th {\n",
       "        text-align: right;\n",
       "    }\n",
       "</style>\n",
       "<table border=\"1\" class=\"dataframe\">\n",
       "  <thead>\n",
       "    <tr style=\"text-align: right;\">\n",
       "      <th></th>\n",
       "      <th>V1</th>\n",
       "      <th>V2</th>\n",
       "      <th>V3</th>\n",
       "      <th>V4</th>\n",
       "      <th>V5</th>\n",
       "      <th>V6</th>\n",
       "      <th>V7</th>\n",
       "      <th>V8</th>\n",
       "      <th>V9</th>\n",
       "      <th>V10</th>\n",
       "      <th>V11</th>\n",
       "      <th>V12</th>\n",
       "      <th>V13</th>\n",
       "      <th>V14</th>\n",
       "      <th>V15</th>\n",
       "      <th>V16</th>\n",
       "      <th>V17</th>\n",
       "      <th>V18</th>\n",
       "      <th>V19</th>\n",
       "      <th>V20</th>\n",
       "      <th>V21</th>\n",
       "      <th>V22</th>\n",
       "      <th>V23</th>\n",
       "      <th>V24</th>\n",
       "      <th>V25</th>\n",
       "      <th>V26</th>\n",
       "      <th>V27</th>\n",
       "      <th>V28</th>\n",
       "      <th>Amount</th>\n",
       "    </tr>\n",
       "  </thead>\n",
       "  <tbody>\n",
       "    <tr>\n",
       "      <td>50159</td>\n",
       "      <td>-0.147342</td>\n",
       "      <td>0.477107</td>\n",
       "      <td>-0.238839</td>\n",
       "      <td>-0.516927</td>\n",
       "      <td>1.409295</td>\n",
       "      <td>2.359090</td>\n",
       "      <td>0.055963</td>\n",
       "      <td>0.735194</td>\n",
       "      <td>-0.803219</td>\n",
       "      <td>-0.162297</td>\n",
       "      <td>-0.374706</td>\n",
       "      <td>0.001334</td>\n",
       "      <td>-0.016358</td>\n",
       "      <td>0.620955</td>\n",
       "      <td>1.174805</td>\n",
       "      <td>0.152945</td>\n",
       "      <td>-0.083759</td>\n",
       "      <td>0.321875</td>\n",
       "      <td>1.247666</td>\n",
       "      <td>0.048214</td>\n",
       "      <td>0.019503</td>\n",
       "      <td>-0.153909</td>\n",
       "      <td>-0.227770</td>\n",
       "      <td>1.736297</td>\n",
       "      <td>-0.084156</td>\n",
       "      <td>0.836072</td>\n",
       "      <td>-0.076272</td>\n",
       "      <td>0.144195</td>\n",
       "      <td>-0.330197</td>\n",
       "    </tr>\n",
       "    <tr>\n",
       "      <td>154678</td>\n",
       "      <td>0.008460</td>\n",
       "      <td>0.380415</td>\n",
       "      <td>0.595622</td>\n",
       "      <td>-0.039121</td>\n",
       "      <td>0.215799</td>\n",
       "      <td>-0.531974</td>\n",
       "      <td>0.370069</td>\n",
       "      <td>-0.135811</td>\n",
       "      <td>0.769453</td>\n",
       "      <td>-0.350669</td>\n",
       "      <td>0.128360</td>\n",
       "      <td>-1.599026</td>\n",
       "      <td>1.219799</td>\n",
       "      <td>1.231598</td>\n",
       "      <td>0.483064</td>\n",
       "      <td>0.014780</td>\n",
       "      <td>0.425673</td>\n",
       "      <td>-0.184487</td>\n",
       "      <td>0.882639</td>\n",
       "      <td>-0.020612</td>\n",
       "      <td>-0.534312</td>\n",
       "      <td>-1.680481</td>\n",
       "      <td>0.403879</td>\n",
       "      <td>-0.209354</td>\n",
       "      <td>-2.176875</td>\n",
       "      <td>0.210497</td>\n",
       "      <td>0.191884</td>\n",
       "      <td>0.440733</td>\n",
       "      <td>-0.294516</td>\n",
       "    </tr>\n",
       "    <tr>\n",
       "      <td>228087</td>\n",
       "      <td>-0.075786</td>\n",
       "      <td>0.474699</td>\n",
       "      <td>-0.206688</td>\n",
       "      <td>-0.535733</td>\n",
       "      <td>0.704465</td>\n",
       "      <td>-0.181177</td>\n",
       "      <td>0.450856</td>\n",
       "      <td>0.048077</td>\n",
       "      <td>0.117352</td>\n",
       "      <td>-0.035949</td>\n",
       "      <td>0.425385</td>\n",
       "      <td>0.215698</td>\n",
       "      <td>-0.607725</td>\n",
       "      <td>-0.365577</td>\n",
       "      <td>-0.829409</td>\n",
       "      <td>0.539038</td>\n",
       "      <td>0.140487</td>\n",
       "      <td>0.411587</td>\n",
       "      <td>0.104674</td>\n",
       "      <td>0.086537</td>\n",
       "      <td>-0.376923</td>\n",
       "      <td>-1.082578</td>\n",
       "      <td>0.273926</td>\n",
       "      <td>0.156586</td>\n",
       "      <td>-0.711446</td>\n",
       "      <td>0.242796</td>\n",
       "      <td>0.420282</td>\n",
       "      <td>0.303046</td>\n",
       "      <td>-0.336193</td>\n",
       "    </tr>\n",
       "    <tr>\n",
       "      <td>139024</td>\n",
       "      <td>-0.204826</td>\n",
       "      <td>0.325935</td>\n",
       "      <td>0.892030</td>\n",
       "      <td>-0.775178</td>\n",
       "      <td>-0.181568</td>\n",
       "      <td>-0.879208</td>\n",
       "      <td>0.371075</td>\n",
       "      <td>-0.030265</td>\n",
       "      <td>0.106412</td>\n",
       "      <td>-0.325257</td>\n",
       "      <td>-0.327615</td>\n",
       "      <td>-0.061437</td>\n",
       "      <td>-0.740843</td>\n",
       "      <td>0.186260</td>\n",
       "      <td>0.618680</td>\n",
       "      <td>0.508710</td>\n",
       "      <td>-0.167023</td>\n",
       "      <td>-0.292922</td>\n",
       "      <td>-0.989503</td>\n",
       "      <td>-0.005864</td>\n",
       "      <td>-0.091220</td>\n",
       "      <td>-0.234643</td>\n",
       "      <td>-0.002118</td>\n",
       "      <td>1.209012</td>\n",
       "      <td>-0.783734</td>\n",
       "      <td>1.443575</td>\n",
       "      <td>0.517085</td>\n",
       "      <td>0.444166</td>\n",
       "      <td>-0.306881</td>\n",
       "    </tr>\n",
       "    <tr>\n",
       "      <td>36045</td>\n",
       "      <td>-4.998510</td>\n",
       "      <td>-4.595133</td>\n",
       "      <td>-1.369609</td>\n",
       "      <td>0.604699</td>\n",
       "      <td>-2.823281</td>\n",
       "      <td>1.841385</td>\n",
       "      <td>1.860863</td>\n",
       "      <td>-0.302005</td>\n",
       "      <td>0.718055</td>\n",
       "      <td>0.621175</td>\n",
       "      <td>1.070168</td>\n",
       "      <td>0.316591</td>\n",
       "      <td>0.555131</td>\n",
       "      <td>-0.514370</td>\n",
       "      <td>-0.042930</td>\n",
       "      <td>1.858085</td>\n",
       "      <td>0.395056</td>\n",
       "      <td>-2.077315</td>\n",
       "      <td>0.729327</td>\n",
       "      <td>-7.157105</td>\n",
       "      <td>-1.898074</td>\n",
       "      <td>0.767180</td>\n",
       "      <td>-0.576639</td>\n",
       "      <td>0.205000</td>\n",
       "      <td>1.301579</td>\n",
       "      <td>-0.915296</td>\n",
       "      <td>-5.840882</td>\n",
       "      <td>8.367479</td>\n",
       "      <td>2.002258</td>\n",
       "    </tr>\n",
       "  </tbody>\n",
       "</table>\n",
       "</div>"
      ],
      "text/plain": [
       "              V1        V2        V3        V4        V5        V6        V7  \\\n",
       "50159  -0.147342  0.477107 -0.238839 -0.516927  1.409295  2.359090  0.055963   \n",
       "154678  0.008460  0.380415  0.595622 -0.039121  0.215799 -0.531974  0.370069   \n",
       "228087 -0.075786  0.474699 -0.206688 -0.535733  0.704465 -0.181177  0.450856   \n",
       "139024 -0.204826  0.325935  0.892030 -0.775178 -0.181568 -0.879208  0.371075   \n",
       "36045  -4.998510 -4.595133 -1.369609  0.604699 -2.823281  1.841385  1.860863   \n",
       "\n",
       "              V8        V9       V10       V11       V12       V13       V14  \\\n",
       "50159   0.735194 -0.803219 -0.162297 -0.374706  0.001334 -0.016358  0.620955   \n",
       "154678 -0.135811  0.769453 -0.350669  0.128360 -1.599026  1.219799  1.231598   \n",
       "228087  0.048077  0.117352 -0.035949  0.425385  0.215698 -0.607725 -0.365577   \n",
       "139024 -0.030265  0.106412 -0.325257 -0.327615 -0.061437 -0.740843  0.186260   \n",
       "36045  -0.302005  0.718055  0.621175  1.070168  0.316591  0.555131 -0.514370   \n",
       "\n",
       "             V15       V16       V17       V18       V19       V20       V21  \\\n",
       "50159   1.174805  0.152945 -0.083759  0.321875  1.247666  0.048214  0.019503   \n",
       "154678  0.483064  0.014780  0.425673 -0.184487  0.882639 -0.020612 -0.534312   \n",
       "228087 -0.829409  0.539038  0.140487  0.411587  0.104674  0.086537 -0.376923   \n",
       "139024  0.618680  0.508710 -0.167023 -0.292922 -0.989503 -0.005864 -0.091220   \n",
       "36045  -0.042930  1.858085  0.395056 -2.077315  0.729327 -7.157105 -1.898074   \n",
       "\n",
       "             V22       V23       V24       V25       V26       V27       V28  \\\n",
       "50159  -0.153909 -0.227770  1.736297 -0.084156  0.836072 -0.076272  0.144195   \n",
       "154678 -1.680481  0.403879 -0.209354 -2.176875  0.210497  0.191884  0.440733   \n",
       "228087 -1.082578  0.273926  0.156586 -0.711446  0.242796  0.420282  0.303046   \n",
       "139024 -0.234643 -0.002118  1.209012 -0.783734  1.443575  0.517085  0.444166   \n",
       "36045   0.767180 -0.576639  0.205000  1.301579 -0.915296 -5.840882  8.367479   \n",
       "\n",
       "          Amount  \n",
       "50159  -0.330197  \n",
       "154678 -0.294516  \n",
       "228087 -0.336193  \n",
       "139024 -0.306881  \n",
       "36045   2.002258  "
      ]
     },
     "metadata": {},
     "output_type": "display_data"
    },
    {
     "data": {
      "text/html": [
       "<div>\n",
       "<style scoped>\n",
       "    .dataframe tbody tr th:only-of-type {\n",
       "        vertical-align: middle;\n",
       "    }\n",
       "\n",
       "    .dataframe tbody tr th {\n",
       "        vertical-align: top;\n",
       "    }\n",
       "\n",
       "    .dataframe thead th {\n",
       "        text-align: right;\n",
       "    }\n",
       "</style>\n",
       "<table border=\"1\" class=\"dataframe\">\n",
       "  <thead>\n",
       "    <tr style=\"text-align: right;\">\n",
       "      <th></th>\n",
       "      <th>V1</th>\n",
       "      <th>V2</th>\n",
       "      <th>V3</th>\n",
       "      <th>V4</th>\n",
       "      <th>V5</th>\n",
       "      <th>V6</th>\n",
       "      <th>V7</th>\n",
       "      <th>V8</th>\n",
       "      <th>V9</th>\n",
       "      <th>V10</th>\n",
       "      <th>V11</th>\n",
       "      <th>V12</th>\n",
       "      <th>V13</th>\n",
       "      <th>V14</th>\n",
       "      <th>V15</th>\n",
       "      <th>V16</th>\n",
       "      <th>V17</th>\n",
       "      <th>V18</th>\n",
       "      <th>V19</th>\n",
       "      <th>V20</th>\n",
       "      <th>V21</th>\n",
       "      <th>V22</th>\n",
       "      <th>V23</th>\n",
       "      <th>V24</th>\n",
       "      <th>V25</th>\n",
       "      <th>V26</th>\n",
       "      <th>V27</th>\n",
       "      <th>V28</th>\n",
       "      <th>Amount</th>\n",
       "    </tr>\n",
       "  </thead>\n",
       "  <tbody>\n",
       "    <tr>\n",
       "      <td>50159</td>\n",
       "      <td>0.940511</td>\n",
       "      <td>0.709769</td>\n",
       "      <td>0.869937</td>\n",
       "      <td>0.232847</td>\n",
       "      <td>0.568895</td>\n",
       "      <td>0.530731</td>\n",
       "      <td>0.558995</td>\n",
       "      <td>0.691846</td>\n",
       "      <td>0.578257</td>\n",
       "      <td>0.658684</td>\n",
       "      <td>0.237352</td>\n",
       "      <td>0.823104</td>\n",
       "      <td>0.469319</td>\n",
       "      <td>0.791516</td>\n",
       "      <td>0.539162</td>\n",
       "      <td>0.693523</td>\n",
       "      <td>0.764018</td>\n",
       "      <td>0.734857</td>\n",
       "      <td>0.524887</td>\n",
       "      <td>0.498422</td>\n",
       "      <td>0.456808</td>\n",
       "      <td>0.508150</td>\n",
       "      <td>0.546698</td>\n",
       "      <td>0.604525</td>\n",
       "      <td>0.569845</td>\n",
       "      <td>0.425158</td>\n",
       "      <td>0.415658</td>\n",
       "      <td>0.351684</td>\n",
       "      <td>0.000284</td>\n",
       "    </tr>\n",
       "    <tr>\n",
       "      <td>154678</td>\n",
       "      <td>0.948213</td>\n",
       "      <td>0.707186</td>\n",
       "      <td>0.924776</td>\n",
       "      <td>0.276823</td>\n",
       "      <td>0.533977</td>\n",
       "      <td>0.426511</td>\n",
       "      <td>0.567153</td>\n",
       "      <td>0.668965</td>\n",
       "      <td>0.670243</td>\n",
       "      <td>0.650052</td>\n",
       "      <td>0.277437</td>\n",
       "      <td>0.704300</td>\n",
       "      <td>0.619118</td>\n",
       "      <td>0.832313</td>\n",
       "      <td>0.477772</td>\n",
       "      <td>0.684757</td>\n",
       "      <td>0.793160</td>\n",
       "      <td>0.695459</td>\n",
       "      <td>0.492504</td>\n",
       "      <td>0.497189</td>\n",
       "      <td>0.446010</td>\n",
       "      <td>0.441301</td>\n",
       "      <td>0.555301</td>\n",
       "      <td>0.422629</td>\n",
       "      <td>0.460115</td>\n",
       "      <td>0.359261</td>\n",
       "      <td>0.421867</td>\n",
       "      <td>0.356328</td>\n",
       "      <td>0.001374</td>\n",
       "    </tr>\n",
       "    <tr>\n",
       "      <td>228087</td>\n",
       "      <td>0.944048</td>\n",
       "      <td>0.709705</td>\n",
       "      <td>0.872050</td>\n",
       "      <td>0.231116</td>\n",
       "      <td>0.548274</td>\n",
       "      <td>0.439157</td>\n",
       "      <td>0.569251</td>\n",
       "      <td>0.673795</td>\n",
       "      <td>0.632102</td>\n",
       "      <td>0.664474</td>\n",
       "      <td>0.301104</td>\n",
       "      <td>0.839017</td>\n",
       "      <td>0.397656</td>\n",
       "      <td>0.725607</td>\n",
       "      <td>0.361294</td>\n",
       "      <td>0.718018</td>\n",
       "      <td>0.776846</td>\n",
       "      <td>0.741838</td>\n",
       "      <td>0.423487</td>\n",
       "      <td>0.499109</td>\n",
       "      <td>0.449078</td>\n",
       "      <td>0.467483</td>\n",
       "      <td>0.553531</td>\n",
       "      <td>0.456840</td>\n",
       "      <td>0.536954</td>\n",
       "      <td>0.362663</td>\n",
       "      <td>0.427155</td>\n",
       "      <td>0.354171</td>\n",
       "      <td>0.000101</td>\n",
       "    </tr>\n",
       "    <tr>\n",
       "      <td>139024</td>\n",
       "      <td>0.937669</td>\n",
       "      <td>0.705731</td>\n",
       "      <td>0.944256</td>\n",
       "      <td>0.209078</td>\n",
       "      <td>0.522352</td>\n",
       "      <td>0.413994</td>\n",
       "      <td>0.567179</td>\n",
       "      <td>0.671737</td>\n",
       "      <td>0.631462</td>\n",
       "      <td>0.651216</td>\n",
       "      <td>0.241104</td>\n",
       "      <td>0.818444</td>\n",
       "      <td>0.381524</td>\n",
       "      <td>0.762474</td>\n",
       "      <td>0.489808</td>\n",
       "      <td>0.716094</td>\n",
       "      <td>0.759256</td>\n",
       "      <td>0.687023</td>\n",
       "      <td>0.326417</td>\n",
       "      <td>0.497454</td>\n",
       "      <td>0.454649</td>\n",
       "      <td>0.504615</td>\n",
       "      <td>0.549771</td>\n",
       "      <td>0.555230</td>\n",
       "      <td>0.533163</td>\n",
       "      <td>0.489150</td>\n",
       "      <td>0.429396</td>\n",
       "      <td>0.356381</td>\n",
       "      <td>0.000997</td>\n",
       "    </tr>\n",
       "    <tr>\n",
       "      <td>36045</td>\n",
       "      <td>0.700696</td>\n",
       "      <td>0.574267</td>\n",
       "      <td>0.795626</td>\n",
       "      <td>0.336079</td>\n",
       "      <td>0.445064</td>\n",
       "      <td>0.512068</td>\n",
       "      <td>0.605873</td>\n",
       "      <td>0.664599</td>\n",
       "      <td>0.667237</td>\n",
       "      <td>0.694588</td>\n",
       "      <td>0.352480</td>\n",
       "      <td>0.846507</td>\n",
       "      <td>0.538573</td>\n",
       "      <td>0.715666</td>\n",
       "      <td>0.431092</td>\n",
       "      <td>0.801703</td>\n",
       "      <td>0.791408</td>\n",
       "      <td>0.548186</td>\n",
       "      <td>0.478903</td>\n",
       "      <td>0.369348</td>\n",
       "      <td>0.419419</td>\n",
       "      <td>0.548485</td>\n",
       "      <td>0.541946</td>\n",
       "      <td>0.461366</td>\n",
       "      <td>0.642505</td>\n",
       "      <td>0.240673</td>\n",
       "      <td>0.282193</td>\n",
       "      <td>0.480466</td>\n",
       "      <td>0.071528</td>\n",
       "    </tr>\n",
       "  </tbody>\n",
       "</table>\n",
       "</div>"
      ],
      "text/plain": [
       "              V1        V2        V3        V4        V5        V6        V7  \\\n",
       "50159   0.940511  0.709769  0.869937  0.232847  0.568895  0.530731  0.558995   \n",
       "154678  0.948213  0.707186  0.924776  0.276823  0.533977  0.426511  0.567153   \n",
       "228087  0.944048  0.709705  0.872050  0.231116  0.548274  0.439157  0.569251   \n",
       "139024  0.937669  0.705731  0.944256  0.209078  0.522352  0.413994  0.567179   \n",
       "36045   0.700696  0.574267  0.795626  0.336079  0.445064  0.512068  0.605873   \n",
       "\n",
       "              V8        V9       V10       V11       V12       V13       V14  \\\n",
       "50159   0.691846  0.578257  0.658684  0.237352  0.823104  0.469319  0.791516   \n",
       "154678  0.668965  0.670243  0.650052  0.277437  0.704300  0.619118  0.832313   \n",
       "228087  0.673795  0.632102  0.664474  0.301104  0.839017  0.397656  0.725607   \n",
       "139024  0.671737  0.631462  0.651216  0.241104  0.818444  0.381524  0.762474   \n",
       "36045   0.664599  0.667237  0.694588  0.352480  0.846507  0.538573  0.715666   \n",
       "\n",
       "             V15       V16       V17       V18       V19       V20       V21  \\\n",
       "50159   0.539162  0.693523  0.764018  0.734857  0.524887  0.498422  0.456808   \n",
       "154678  0.477772  0.684757  0.793160  0.695459  0.492504  0.497189  0.446010   \n",
       "228087  0.361294  0.718018  0.776846  0.741838  0.423487  0.499109  0.449078   \n",
       "139024  0.489808  0.716094  0.759256  0.687023  0.326417  0.497454  0.454649   \n",
       "36045   0.431092  0.801703  0.791408  0.548186  0.478903  0.369348  0.419419   \n",
       "\n",
       "             V22       V23       V24       V25       V26       V27       V28  \\\n",
       "50159   0.508150  0.546698  0.604525  0.569845  0.425158  0.415658  0.351684   \n",
       "154678  0.441301  0.555301  0.422629  0.460115  0.359261  0.421867  0.356328   \n",
       "228087  0.467483  0.553531  0.456840  0.536954  0.362663  0.427155  0.354171   \n",
       "139024  0.504615  0.549771  0.555230  0.533163  0.489150  0.429396  0.356381   \n",
       "36045   0.548485  0.541946  0.461366  0.642505  0.240673  0.282193  0.480466   \n",
       "\n",
       "          Amount  \n",
       "50159   0.000284  \n",
       "154678  0.001374  \n",
       "228087  0.000101  \n",
       "139024  0.000997  \n",
       "36045   0.071528  "
      ]
     },
     "metadata": {},
     "output_type": "display_data"
    }
   ],
   "source": [
    "#https://umap-learn.readthedocs.io/en/latest/basic_usage.html#iris-data\n",
    "data = pd.read_csv(\"creditcard.csv\")\n",
    "#data = pd.read_csv(\"/Users/akrim/Downloads/creditcard 2.csv\")\n",
    "#data = data.drop(data.columns[19:29], axis=1)\n",
    "len_df = data[data.Class==0].shape[0]\n",
    "\n",
    "#randomly sample 50000 rows\n",
    "\n",
    "#data[data.Class==0].sample(frac=0.2)\n",
    "random.seed(1)\n",
    "data_train = data[data.Class==0].sample(n=80000)\n",
    "data_used = data.drop(data.index[data_train.index])\n",
    "\n",
    "df1 = data_used[data_used.Class==0].sample(n=15000)\n",
    "df2 = data_used[data_used.Class==1]\n",
    "data = pd.DataFrame(pd.concat([df1,df2]))\n",
    "\n",
    "data_bis2 = data\n",
    "\n",
    "data_std, data_nrm, Target = prep_data(data)\n",
    "#embedding = viz_data(data,data_std, 3, Target)"
   ]
  },
  {
   "cell_type": "code",
   "execution_count": 12,
   "metadata": {},
   "outputs": [
    {
     "data": {
      "text/plain": [
       "(15492, 29)"
      ]
     },
     "execution_count": 12,
     "metadata": {},
     "output_type": "execute_result"
    }
   ],
   "source": [
    "data_std.shape"
   ]
  },
  {
   "cell_type": "code",
   "execution_count": 13,
   "metadata": {},
   "outputs": [
    {
     "data": {
      "image/png": "[encoded data removed]",
      "text/plain": [
       "<Figure size 432x288 with 1 Axes>"
      ]
     },
     "metadata": {
      "needs_background": "light"
     },
     "output_type": "display_data"
    },
    {
     "name": "stdout",
     "output_type": "stream",
     "text": [
      " Le nombre de dimensions à conserver (entre 1 et 10): 10\n",
      "PCA took 0.066 s\n",
      "Explained variance: 0.5863\n",
      " Garder ce nombre de dimensions ? (Y or N)Y\n"
     ]
    }
   ],
   "source": [
    "# PCA Implementation\n",
    "\n",
    "pca_test = PCA().fit(data_std.values)\n",
    "plt.plot(np.cumsum(pca_test.explained_variance_ratio_))\n",
    "plt.xlabel('Number of components')\n",
    "plt.ylabel('Cumulative explained variance');\n",
    "plt.rcParams['figure.figsize']=(16,8)\n",
    "plt.grid(True)\n",
    "plt.show()\n",
    "\n",
    "\n",
    "nb_pc = input(' Le nombre de dimensions à conserver (entre 1 et 10): ')\n",
    "nb_pc = int(nb_pc)\n",
    "\n",
    "t0 = time.time()\n",
    "pca_final = PCA(n_components=nb_pc, random_state=42)\n",
    "X_reduced_pca = pca_final.fit_transform(data_std.values)\n",
    "t1 = time.time()\n",
    "print(\"PCA took {:.2} s\".format(t1 - t0))\n",
    "features = range(pca_final.n_components_)\n",
    "print('Explained variance: %.4f' % pca_final.explained_variance_ratio_.sum())\n",
    "\n",
    "ans = input(' Garder ce nombre de dimensions ? (Y or N)')\n",
    "\n",
    "while ans!='Y' :\n",
    "    del(pca_final)\n",
    "    del(nb_pc)\n",
    "    nb_pc = input(' Le nombre de dimensions à conserver (entre 1 et 10): ')\n",
    "    nb_pc = int(nb_pc)\n",
    "\n",
    "    t0 = time.time()\n",
    "    pca_final = PCA(n_components=nb_pc, random_state=42)\n",
    "    X_reduced_pca = pca_final.fit_transform(data_std.values)\n",
    "    t1 = time.time()\n",
    "    print(\"PCA took {:.2} s\".format(t1 - t0))\n",
    "    features = range(pca_final.n_components_)\n",
    "    print('Explained variance: %.4f' % pca_final.explained_variance_ratio_.sum())\n",
    "    ans = input(' Garder ce nombre de dimensions ? (Y or N)')\n",
    "\n",
    "data_std_reduced=pd.DataFrame(X_reduced_pca)\n"
   ]
  },
  {
   "cell_type": "markdown",
   "metadata": {},
   "source": [
    "# Data Standardized Reduced"
   ]
  },
  {
   "cell_type": "code",
   "execution_count": 9,
   "metadata": {},
   "outputs": [],
   "source": [
    "data_std_reduced = data_std"
   ]
  },
  {
   "cell_type": "code",
   "execution_count": 18,
   "metadata": {},
   "outputs": [],
   "source": [
    "from scipy.spatial import distance_matrix\n",
    "from sklearn.metrics import pairwise_distances\n",
    "#a=pairwise_distances(data_std.iloc[0:2,:],data_std.iloc[0:,:])\n",
    "#np.fill_diagonal(a, np.nan)\n",
    "a=pairwise_distances(data_std.iloc[0:1,:],data_std.iloc[0:,:])\n",
    "np.fill_diagonal(a, np.nan)"
   ]
  },
  {
   "cell_type": "code",
   "execution_count": 21,
   "metadata": {},
   "outputs": [],
   "source": [
    "dst = pd.DataFrame(np.zeros((data_std.shape[0], 3)),columns = ['Min', 'Max', 'Mean'], dtype='float')"
   ]
  },
  {
   "cell_type": "code",
   "execution_count": 22,
   "metadata": {},
   "outputs": [
    {
     "name": "stdout",
     "output_type": "stream",
     "text": [
      "PCA took 4.34 s\n"
     ]
    }
   ],
   "source": [
    "t0 = time.time()\n",
    "batch = 500\n",
    "#dists = pairwise_distances(data_std.iloc[0:batch,:],data_std.iloc[0:,:])\n",
    "#dists[0,0] = np.nan\n",
    "\n",
    "for i in range(0, data_std.shape[0], batch) :#data_std.shape[0]\n",
    "    #print(pairwise_distances(data_std.iloc[0:1,:],data_std.iloc[0:,:]))\n",
    "    #print(i)                          \n",
    "    #print(data_std.iloc[i:i+batch,:].shape)\n",
    "    \n",
    "    #dists = pairwise_distances(data_std.iloc[i:i+batch,:],data_std.iloc[0:,:])\n",
    "    \n",
    "    #dists = np.append(dists,pairwise_distances(data_std.iloc[i:i+batch,:],data_std.iloc[0:,:]), axis=0)\n",
    "    \n",
    "    dists = pairwise_distances(data_std.iloc[i:i+batch,:],data_std.iloc[0:,:])\n",
    "    #np.fill_diagonal(dists, np.nan)\n",
    "    \n",
    "    for j in range(0,dists.shape[0]) :\n",
    "        dists[j,i+j] = np.nan  #en gros je decale la diag\n",
    "    \n",
    "    dst.loc[i:i+batch-1,'Min'] = np.nanmin(dists, axis=1) \n",
    "    dst.loc[i:i+batch-1,'Max'] = np.nanmax(dists, axis=1) \n",
    "    dst.loc[i:i+batch-1,'Mean'] = np.nanmean(dists, axis=1)\n",
    "    \n",
    "    \n",
    "t1 = time.time()\n",
    "print(\"PCA took {:.3} s\".format(t1 - t0))"
   ]
  },
  {
   "cell_type": "code",
   "execution_count": 23,
   "metadata": {},
   "outputs": [],
   "source": [
    "dst.to_csv('distances2_DBSCAN_DATA1.csv', index=False)\n"
   ]
  },
  {
   "cell_type": "code",
   "execution_count": 24,
   "metadata": {},
   "outputs": [],
   "source": [
    "from scipy.spatial import distance_matrix\n",
    "from sklearn.metrics import pairwise_distances\n",
    "\n",
    "temp_pca=pairwise_distances(data_std_reduced)\n",
    "#distance_matrix(data_std,data_std,2)\n",
    "for i in range(0,(data_std).shape[0]) :\n",
    "    temp_pca[i,i] = np.nan"
   ]
  },
  {
   "cell_type": "code",
   "execution_count": 25,
   "metadata": {},
   "outputs": [
    {
     "data": {
      "image/png": "[encoded data removed]",
      "text/plain": [
       "<Figure size 1728x720 with 3 Axes>"
      ]
     },
     "metadata": {
      "needs_background": "light"
     },
     "output_type": "display_data"
    }
   ],
   "source": [
    "matrix_min_pca = np.nanmin(temp_pca, axis=0) #0 means row, 1 means column\n",
    "matrix_max_pca = np.nanmax(temp_pca, axis=0)\n",
    "matrix_mean_pca = np.nanmean(temp_pca, axis=0)\n",
    "\n",
    "fig, axs = plt.subplots(1, 3,  figsize=(24,10))\n",
    "\n",
    "# We can set the number of bins with the `bins` kwarg\n",
    "axs[0].hist(matrix_min_pca[np.array(Target)==0], bins = 10,color='g',alpha=1, rwidth=0.80)\n",
    "axs[0].hist(matrix_min_pca[np.array(Target)==1], bins = 10,color='r',alpha=1, rwidth=0.80)\n",
    "\n",
    "axs[0].set_xlim(min(matrix_min_pca)-1, max(matrix_min_pca)+1)\n",
    "#axs[0].set_ylim(0,500)\n",
    "#axs[0].set_xlim(0,10)\n",
    "\n",
    "axs[0].set_xlabel('Distance')\n",
    "axs[0].set_ylabel('Number of points')\n",
    "axs[0].set_title('Histogram of the minimal distance, or distance to the nearest neighbor')\n",
    "axs[0].grid(True)\n",
    "\n",
    "\n",
    "axs[1].hist(matrix_max_pca[np.array(Target)==0], bins = 10,color='g',alpha=1, rwidth=0.80)\n",
    "axs[1].hist(matrix_max_pca[np.array(Target)==1], bins = 10,color='r',alpha=1, rwidth=0.80)\n",
    "\n",
    "#axs[1].set_ylim(0,500)\n",
    "axs[1].set_xlabel('Distance')\n",
    "axs[1].set_xlim(min(matrix_max_pca)-1, max(matrix_max_pca)+1)\n",
    "axs[1].set_ylabel('Number of points')\n",
    "axs[1].set_title('Histogram of the maximal distance, or distance to the furthest neighbor')\n",
    "axs[1].grid(True)\n",
    "\n",
    "axs[2].hist(matrix_mean_pca[np.array(Target)==0], bins = 10,color='g',alpha=1, rwidth=0.80)\n",
    "axs[2].hist(matrix_mean_pca[np.array(Target)==1], bins = 10,color='r',alpha=1, rwidth=0.80)\n",
    "\n",
    "#axs[2].set_ylim(0,500)\n",
    "axs[2].set_xlim(min(matrix_mean_pca)-1, max(matrix_mean_pca)+1)\n",
    "axs[2].set_xlabel('Distance')\n",
    "axs[2].set_ylabel('Number of points')\n",
    "axs[2].set_title('Histogram of the mean distance')\n",
    "axs[2].grid(True)\n",
    "\n",
    "plt.show()"
   ]
  },
  {
   "cell_type": "code",
   "execution_count": 17,
   "metadata": {},
   "outputs": [],
   "source": [
    "#regroupés entre eux, avec des outliers éloignés, zones à faible densité"
   ]
  },
  {
   "cell_type": "code",
   "execution_count": 16,
   "metadata": {},
   "outputs": [],
   "source": [
    "#une séparation entre outliers et inliers, une frontière, une distinction (mean distance)"
   ]
  },
  {
   "cell_type": "code",
   "execution_count": 26,
   "metadata": {},
   "outputs": [
    {
     "data": {
      "image/png": "[encoded data removed]",
      "text/plain": [
       "<Figure size 1728x720 with 4 Axes>"
      ]
     },
     "metadata": {
      "needs_background": "light"
     },
     "output_type": "display_data"
    }
   ],
   "source": [
    "#matrix_min_pca = dst.Min.values#np.nanmin(temp_pca, axis=0) #0 means row, 1 means column\n",
    "#matrix_max_pca = dst.Max.values#np.nanmax(temp_pca, axis=0)\n",
    "#matrix_mean_pca = dst.Mean.values#np.nanmean(temp_pca, axis=0)\n",
    "\n",
    "fig, axs = plt.subplots(2, 2,  figsize=(24,10))\n",
    "\n",
    "# We can set the number of bins with the `bins` kwarg\n",
    "axs[0,0].hist(matrix_min_pca, bins = 30, color='b',alpha=1, rwidth=0.80)\n",
    "\n",
    "axs[0,0].set_xlim(min(matrix_min_pca)-1, max(matrix_min_pca)+1)\n",
    "\n",
    "axs[0,0].set_xlabel('Distance')\n",
    "axs[0,0].set_ylabel('Number of points')\n",
    "axs[0,0].set_title('Histogram of the minimum distance, or distance to the nearest neighbor')\n",
    "axs[0,0].grid(True)\n",
    "\n",
    "# We can set the number of bins with the `bins` kwarg\n",
    "axs[0,1].hist(matrix_min_pca, bins = 30,color='b',alpha=1, rwidth=0.80)\n",
    "\n",
    "axs[0,1].set_xlim(min(matrix_min_pca)-1, max(matrix_min_pca)+1)\n",
    "#axs[0,1].set_ylim(0,500)\n",
    "axs[0,1].set_xlim(0,6)\n",
    "\n",
    "axs[0,1].set_xlabel('Distance')\n",
    "axs[0,1].set_ylabel('Number of points')\n",
    "axs[0,1].set_title('Histogram of the minimum distance, or distance to the nearest neighbor')\n",
    "axs[0,1].grid(True)\n",
    "\n",
    "\n",
    "axs[1,0].hist(matrix_mean_pca, bins = 30,color='b',alpha=1, rwidth=0.80)\n",
    "\n",
    "#axs[1,1].set_ylim(0,500)\n",
    "axs[1,0].set_xlim(min(matrix_mean_pca)-1, max(matrix_mean_pca)+1)\n",
    "axs[1,0].set_xlabel('Distance')\n",
    "axs[1,0].set_ylabel('Number of points')\n",
    "axs[1,0].set_title('Histogram of the mean distance')\n",
    "axs[1,0].grid(True)\n",
    "\n",
    "\n",
    "axs[1,1].hist(matrix_mean_pca, bins = 20,color='b',alpha=1, rwidth=0.80)\n",
    "\n",
    "#axs[1,1].set_ylim(0,500)\n",
    "axs[1,1].set_xlim(0,20)\n",
    "\n",
    "#axs[1,1].set_xlim(min(matrix_mean_pca)-1, max(matrix_mean_pca)+1)\n",
    "axs[1,1].set_xlabel('Distance')\n",
    "axs[1,1].set_ylabel('Number of points')\n",
    "axs[1,1].set_title('Histogram of the mean distance')\n",
    "axs[1,1].grid(True)\n",
    "\n",
    "plt.show()"
   ]
  },
  {
   "cell_type": "code",
   "execution_count": 27,
   "metadata": {},
   "outputs": [],
   "source": [
    "expectation = len(matrix_mean_pca[matrix_mean_pca>=8])"
   ]
  },
  {
   "cell_type": "code",
   "execution_count": 28,
   "metadata": {},
   "outputs": [
    {
     "data": {
      "text/plain": [
       "512"
      ]
     },
     "execution_count": 28,
     "metadata": {},
     "output_type": "execute_result"
    }
   ],
   "source": [
    "expectation #soit 1%"
   ]
  },
  {
   "cell_type": "markdown",
   "metadata": {},
   "source": [
    "La majorité des points se trouvent à une distance d'au plus de 3 unités de leur plus proche voisin. Ainsi, 3 serait une distance raisonnable pour le paramètre epsilon (DBSCAN notamment)."
   ]
  },
  {
   "cell_type": "code",
   "execution_count": 29,
   "metadata": {},
   "outputs": [],
   "source": [
    "from sklearn.neighbors import radius_neighbors_graph\n",
    "A = radius_neighbors_graph(data_std_reduced, 3, mode='connectivity', p=2, include_self=False)"
   ]
  },
  {
   "cell_type": "code",
   "execution_count": 36,
   "metadata": {},
   "outputs": [
    {
     "data": {
      "text/plain": [
       "array([0., 0., 0., ..., 0., 0., 0.])"
      ]
     },
     "execution_count": 36,
     "metadata": {},
     "output_type": "execute_result"
    }
   ],
   "source": [
    "nb_neighb"
   ]
  },
  {
   "cell_type": "code",
   "execution_count": 34,
   "metadata": {},
   "outputs": [
    {
     "name": "stdout",
     "output_type": "stream",
     "text": [
      "PCA took 0.0 s\n"
     ]
    }
   ],
   "source": [
    "nb_neighb = np.zeros((data_std.shape[0]))\n",
    "t0 = time.time()\n",
    "\n",
    "distance = []\n",
    "for i in range(274800, data_std.shape[0]) :#data_std.shape[0]\n",
    "    \n",
    "    \n",
    "    distance = pairwise_distances(data_std.iloc[i:i+1,:],data_std.iloc[0:,:])\n",
    "    distance[0][i] = np.nan\n",
    "    nb_neighb.iloc[i,:] = len(distance[distance<=0.4])\n",
    "    \n",
    "    \n",
    "t1 = time.time()\n",
    "print(\"PCA took {:.3} s\".format(t1 - t0))"
   ]
  },
  {
   "cell_type": "code",
   "execution_count": 7,
   "metadata": {},
   "outputs": [],
   "source": [
    "nb_neighb = pd.read_csv('neighb_DBSCAN_DATA1.csv')"
   ]
  },
  {
   "cell_type": "code",
   "execution_count": 37,
   "metadata": {},
   "outputs": [
    {
     "name": "stdout",
     "output_type": "stream",
     "text": [
      "Le vecteur de nbre de voisins se répartit de la sorte : [0. 0. 0. 0. 0. 0.]\n"
     ]
    }
   ],
   "source": [
    "# nb_neighb = pd.read_csv('neighb_DBSCAN_DATA1.csv')\n",
    "nbr_neighb = np.array(nb_neighb)\n",
    "print(\"Le vecteur de nbre de voisins se répartit de la sorte :\", np.percentile(np.array(nbr_neighb), [1, 25, 50, 75, 90, 95]))\n"
   ]
  },
  {
   "cell_type": "code",
   "execution_count": 1,
   "metadata": {},
   "outputs": [],
   "source": [
    "#matrix_nearest_neighb = A.toarray()\n",
    "#nbr_neighb = sum(matrix_nearest_neighb)\n",
    "\n",
    "nbr_neighb = np.array(nb_neighb)\n",
    "\n",
    "fig, ax = plt.subplots(1, 1,  figsize=(24,10))\n",
    "\n",
    "ax.hist(nbr_neighb,alpha=1, rwidth=0.80)\n",
    "\n",
    "\n",
    "#ax.set_ylim(0,500)\n",
    "ax.set_xlabel('Number of nearest neighbours')\n",
    "ax.set_ylabel('Number of points')\n",
    "ax.set_title('Number of points within distance epsilon = 0.5')\n",
    "ax.grid(True)\n",
    "plt.show()"
   ]
  },
  {
   "cell_type": "code",
   "execution_count": 38,
   "metadata": {},
   "outputs": [
    {
     "data": {
      "image/png": "[encoded data removed]",
      "text/plain": [
       "<Figure size 1728x720 with 1 Axes>"
      ]
     },
     "metadata": {
      "needs_background": "light"
     },
     "output_type": "display_data"
    }
   ],
   "source": [
    "matrix_nearest_neighb = A.toarray()\n",
    "nbr_neighb = sum(matrix_nearest_neighb)\n",
    "\n",
    "#nbr_neighb = np.array(nb_neighb)\n",
    "\n",
    "fig, ax = plt.subplots(1, 1,  figsize=(24,10))\n",
    "\n",
    "ax.hist(nbr_neighb,alpha=1, rwidth=0.80)\n",
    "\n",
    "\n",
    "#ax.set_ylim(0,500)\n",
    "ax.set_xlabel('Number of nearest neighbours')\n",
    "ax.set_ylabel('Number of points')\n",
    "ax.set_title('Number of points within distance epsilon = 0.5')\n",
    "ax.grid(True)\n",
    "plt.show()"
   ]
  },
  {
   "cell_type": "code",
   "execution_count": 39,
   "metadata": {},
   "outputs": [
    {
     "data": {
      "image/png": "[encoded data removed]",
      "text/plain": [
       "<Figure size 1728x720 with 1 Axes>"
      ]
     },
     "metadata": {
      "needs_background": "light"
     },
     "output_type": "display_data"
    }
   ],
   "source": [
    "fig, ax = plt.subplots(1, 1,  figsize=(24,10))\n",
    "\n",
    "ax.hist(nbr_neighb, bins = 1000,color='b',alpha=1, rwidth=0.80)\n",
    "\n",
    "\n",
    "ax.set_xlim(0,20)\n",
    "ax.set_xlabel('Number of nearest neighbours')\n",
    "ax.set_ylabel('Number of points')\n",
    "ax.set_title('Number of points withing distance epsilon = 6')\n",
    "ax.grid(True)\n",
    "plt.show()"
   ]
  },
  {
   "cell_type": "code",
   "execution_count": 30,
   "metadata": {},
   "outputs": [],
   "source": [
    "#fixer un seuil de voisins, ici 2 voisins"
   ]
  },
  {
   "cell_type": "code",
   "execution_count": 40,
   "metadata": {},
   "outputs": [
    {
     "data": {
      "image/png": "[encoded data removed]",
      "text/plain": [
       "<Figure size 1728x720 with 1 Axes>"
      ]
     },
     "metadata": {
      "needs_background": "light"
     },
     "output_type": "display_data"
    }
   ],
   "source": [
    "fig, ax = plt.subplots(1, 1,  figsize=(24,10))\n",
    "\n",
    "ax.hist(nbr_neighb[np.array(Target)==0], bins = 100,color='g',alpha=1, rwidth=0.80)\n",
    "ax.hist(nbr_neighb[np.array(Target)==1], bins = 100,color='r',alpha=1, rwidth=0.80)\n",
    "\n",
    "\n",
    "#ax.set_ylim(0,500)\n",
    "ax.set_xlabel('Number of nearest neighbours')\n",
    "ax.set_ylabel('Number of points')\n",
    "ax.set_title('Number of points withing distance epsilon = 6')\n",
    "ax.grid(True)\n",
    "ax.set_xlim(0,120)\n",
    "\n",
    "plt.show()"
   ]
  },
  {
   "cell_type": "code",
   "execution_count": 41,
   "metadata": {},
   "outputs": [
    {
     "data": {
      "image/png": "[encoded data removed]",
      "text/plain": [
       "<Figure size 1728x720 with 1 Axes>"
      ]
     },
     "metadata": {
      "needs_background": "light"
     },
     "output_type": "display_data"
    }
   ],
   "source": [
    "fig, ax = plt.subplots(1, 1,  figsize=(24,10))\n",
    "\n",
    "ax.hist(nbr_neighb, bins = 200,color='b',alpha=1, rwidth=0.80)\n",
    "\n",
    "\n",
    "ax.set_xlim(0,120)\n",
    "ax.set_xlabel('Number of nearest neighbours')\n",
    "ax.set_ylabel('Number of points')\n",
    "ax.set_title('Number of points withing distance epsilon = 5.5')\n",
    "ax.grid(True)\n",
    "plt.show()"
   ]
  },
  {
   "cell_type": "markdown",
   "metadata": {},
   "source": [
    "This histogram was obtained on a data set of 5... points, with epsilon = 3. \n",
    "\n",
    "It indicates that some points (about 1135, which is 20% of all points) have too few neighbors. Probably they are noise points. A smaller fraction (about 300, which is % of all points) have 60 to 100 neighbors, and starting from 129, the number of neighbors begins to grow.\n",
    "\n",
    "Based on the histograms above, I would try clustering my data set with the following parameters: epsilon = 6, minPts = 10\n",
    "."
   ]
  },
  {
   "cell_type": "markdown",
   "metadata": {},
   "source": [
    "# Clustering"
   ]
  },
  {
   "cell_type": "code",
   "execution_count": 42,
   "metadata": {},
   "outputs": [],
   "source": [
    "data_final = data #pd.DataFrame(pd.concat([data_tst,data_tst2])) #data\n",
    "\n",
    "\n",
    "#data_final.loc[data_final['Class']==1,['Class']]=1\n",
    "#data_final.loc[data_final['Class']==0,['Class']]=0\n",
    "\n",
    "\n",
    "def conf_matrix(y_pred, target) :  \n",
    "    cm = confusion_matrix(target, y_pred)\n",
    "    #print(cm)\n",
    "    plt.subplots(figsize=(25, 6))\n",
    "\n",
    "    plt.clf()\n",
    "    plt.imshow(cm, interpolation='nearest', cmap=plt.cm.Blues)\n",
    "    classNames = ['Negative','Positive']\n",
    "    plt.title('Confusion Matrix')\n",
    "    plt.ylabel('True label')\n",
    "    plt.xlabel('Predicted label')\n",
    "    tick_marks = np.arange(len(classNames))\n",
    "    plt.xticks(tick_marks, classNames, rotation=45)\n",
    "    plt.yticks(tick_marks, classNames)\n",
    "    s = [['TN','FP'], ['FN', 'TP']]\n",
    "    thresh = cm.max() / 2.\n",
    "    for i in range(2):\n",
    "        for j in range(2):\n",
    "            #print(j)\n",
    "            plt.text(j,i, str(s[i][j])+\" = \"+str(cm[i][j]),\n",
    "            horizontalalignment=\"center\",\n",
    "            color=\"white\" if cm[i, j] > thresh else \"black\")\n",
    "    print(\"Le modèle prédictif a bien identifié\", cm[1,1], \"fraudeurs, et s'est trompé sur\", cm[0,1], \"individus non fraudeurs\")\n",
    "    plt.show()\n",
    "    return cm\n",
    "\n",
    "\n",
    "def km_reiter(df, n_clusters_max, is_fraud_km, nbiters) : \n",
    "    from sklearn import metrics\n",
    "    from sklearn.cluster import KMeans\n",
    "    matrix_temp = np.zeros((n_clusters_max*nbiters, len(df)))\n",
    "    matrix_temp2 = np.zeros((n_clusters_max-2+1, len(df)))\n",
    "    #matrix_silhouette = np.zeros((2, n_clusters_max-2+1))\n",
    "    t=0\n",
    "    j=0\n",
    "    for n_clusters in range(2,n_clusters_max+1) :\n",
    "        matrix_temp_n = np.zeros((nbiters, len(df)))\n",
    "        is_fraud_km1 = np.zeros((len(df)))\n",
    "        for k in range(0,nbiters) :\n",
    "            \n",
    "            km = KMeans(n_clusters)\n",
    "            temp = km.fit_predict(df)\n",
    "            \n",
    "            #if (n_clusters>2) :\n",
    "            for i in range(0,n_clusters) :\n",
    "                if len(temp[temp==i]) <= 0.01*len(df) : \n",
    "                    temp[temp==i]= 1\n",
    "                else :\n",
    "                    temp[temp==i]= 0\n",
    "            \n",
    "            matrix_temp_n[k]=temp\n",
    "            matrix_temp[j]=temp\n",
    "            j=j+1\n",
    "        is_fraud_km1 = sum(matrix_temp_n)/(nbiters) \n",
    "        \n",
    "        \n",
    "        #fig, ax = plt.subplots(1, 1,  figsize=(12,6))\n",
    "\n",
    "        #ax.hist(is_fraud_km1, bins = 100,color='b',alpha=1, rwidth=0.80)\n",
    "\n",
    "        #ax.set_ylim(0,500)\n",
    "        #ax.set_xlabel('Number of nearest neighbours')\n",
    "        #ax.set_ylabel('Number of points')\n",
    "        #ax.set_title('Number of points withing distance epsilon = 3.5')\n",
    "        #ax.grid(True)\n",
    "        #plt.show()\n",
    "\n",
    "\n",
    "\n",
    "        #tol1 = input(' La tolérance est fixée à (entre 0 et 1): ')\n",
    "        #tol1 = float(tol1)\n",
    "        nbr= np.shape(is_fraud_km1[is_fraud_km1>=0.4])[0]\n",
    "        print(\"Le nombre d'individus avec un score supérieur à\", 0.4, \"est de\", nbr)\n",
    "\n",
    "        is_fraud_km3 = np.zeros(len(df))\n",
    "        is_fraud_km3[is_fraud_km1>=0.5] = 1\n",
    "        #matrix_silhouette[0,t] = n_clusters\n",
    "        #matrix_silhouette[1,t] = metrics.silhouette_score(df, is_fraud_km3)\n",
    "        t=t+1\n",
    "        matrix_temp2[n_clusters-2] = is_fraud_km3 \n",
    "        \n",
    "    is_fraud_km = sum(matrix_temp)/(n_clusters_max*nbiters)\n",
    "    return is_fraud_km,matrix_temp2 #matrix_silhouette,\n",
    "\n",
    "\n"
   ]
  },
  {
   "cell_type": "code",
   "execution_count": 43,
   "metadata": {},
   "outputs": [],
   "source": [
    "def IF_reiter(df,param_n_estimators, is_fraud_IF, nbiters, contam) : \n",
    "    \n",
    "     #max_features= random.randint(5,df.shape[1]),\n",
    "    length = nbiters*len(param_n_estimators)\n",
    "    matrix_temp = np.zeros((length, len(df)))\n",
    "    array_temp = np.zeros(length)\n",
    "    print(length)\n",
    "    i=0\n",
    "    for n_estims in param_n_estimators :\n",
    "        for k in range(0,nbiters) :    \n",
    "            clf=IsolationForest(behaviour='new',  max_samples=random.random(),n_estimators=n_estims, contamination = contam)\n",
    "            clf.fit(df)\n",
    "            temp = -clf.decision_function(df)\n",
    "            threshold = (abs(min(temp))+0.2)*100\n",
    "            temp = (temp+(abs(min(temp))+0.2))*100\n",
    "            matrix_temp[i]=temp\n",
    "            array_temp[i] = threshold\n",
    "            i=i+1    \n",
    "    is_fraud_IF = sum(matrix_temp)/length\n",
    "    threshold = sum(array_temp)/length\n",
    "        \n",
    "    return is_fraud_IF, threshold"
   ]
  },
  {
   "cell_type": "markdown",
   "metadata": {},
   "source": [
    "# 2) Isolation Forest"
   ]
  },
  {
   "cell_type": "code",
   "execution_count": 44,
   "metadata": {},
   "outputs": [
    {
     "name": "stdout",
     "output_type": "stream",
     "text": [
      "1\n",
      "Le modèle prédictif a bien identifié 115 fraudeurs, et s'est trompé sur 39 individus non fraudeurs\n"
     ]
    },
    {
     "data": {
      "image/png": "[encoded data removed]",
      "text/plain": [
       "<Figure size 1800x432 with 1 Axes>"
      ]
     },
     "metadata": {
      "needs_background": "light"
     },
     "output_type": "display_data"
    },
    {
     "name": "stdout",
     "output_type": "stream",
     "text": [
      "              precision    recall  f1-score   support\n",
      "\n",
      "           0       0.98      1.00      0.99     15000\n",
      "           1       0.75      0.23      0.36       492\n",
      "\n",
      "    accuracy                           0.97     15492\n",
      "   macro avg       0.86      0.62      0.67     15492\n",
      "weighted avg       0.97      0.97      0.97     15492\n",
      "\n",
      "PCA took 5.1 s\n"
     ]
    }
   ],
   "source": [
    "from sklearn.ensemble import IsolationForest\n",
    "\n",
    "#del(sum)\n",
    "t0 = time.time()\n",
    "\n",
    "contam = 0.01 #expectation/data_std.shape[0] #expectation/data_std.shape[0] #1650/data_std.shape[0] #Supposons l'existence de 1000 fraudeurs au plus\n",
    "is_fraud_IF = []\n",
    "is_fraud_IF, threshold =((IF_reiter(data_std,{250}, is_fraud_IF,1,contam)))\n",
    "\n",
    "\n",
    "data_final[\"isFraudIF\"]=0\n",
    "\n",
    "data_final.loc[is_fraud_IF>threshold,['isFraudIF']]=1\n",
    "data_final.loc[is_fraud_IF<=threshold,['isFraudIF']]=0\n",
    "\n",
    "conf_matrix(data_final[\"isFraudIF\"], Target)\n",
    "#visualisation_3D(np.array(data_final[\"isFraudIF\"]))\n",
    "\n",
    "print(classification_report(data_final.Class, data_final[\"isFraudIF\"]))\n",
    "\n",
    "t1 = time.time()\n",
    "print(\"PCA took {:.3} s\".format(t1 - t0))"
   ]
  },
  {
   "cell_type": "markdown",
   "metadata": {},
   "source": [
    "### 3) SVM One Class"
   ]
  },
  {
   "cell_type": "code",
   "execution_count": 45,
   "metadata": {},
   "outputs": [
    {
     "data": {
      "text/plain": [
       "<matplotlib.axes._subplots.AxesSubplot at 0x22da726ab48>"
      ]
     },
     "execution_count": 45,
     "metadata": {},
     "output_type": "execute_result"
    },
    {
     "data": {
      "image/png": "[encoded data removed]",
      "text/plain": [
       "<Figure size 1440x576 with 1 Axes>"
      ]
     },
     "metadata": {
      "needs_background": "light"
     },
     "output_type": "display_data"
    }
   ],
   "source": [
    "from sklearn import svm\n",
    "\n",
    "#Choix du param gamma\n",
    "A = []\n",
    "B = []\n",
    "\n",
    "nu = expectation/data_std.shape[0]\n",
    "\n",
    "for i in np.linspace(0.0000001,0.001,100):\n",
    "    model = svm.OneClassSVM(nu=nu, shrinking= True, kernel='rbf',  gamma=i)\n",
    "    model.fit(data_std)\n",
    "    preds = model.predict(data_std)\n",
    "    core_samples_mask = np.zeros_like(preds, dtype=bool)\n",
    "    core_samples_mask[preds==-1] = True\n",
    "    labels = preds\n",
    "    n_clusters_ = len(set(labels)) - (1 if -1 in labels else 0)\n",
    "    \n",
    "    sums = 0\n",
    "    for t in labels:\n",
    "        if t == -1: \n",
    "            sums = sums + 1\n",
    "    B.append(sums)\n",
    "    A.append(i)\n",
    "    \n",
    "results = pd.DataFrame([A,B]).T\n",
    "results.columns = ['gamma','Number of outliers']\n",
    "results.plot(x='gamma',y='Number of outliers',figsize=(20,8), grid=True, xlim = (0.0000001,0.001))"
   ]
  },
  {
   "cell_type": "code",
   "execution_count": 46,
   "metadata": {},
   "outputs": [
    {
     "data": {
      "text/plain": [
       "<matplotlib.axes._subplots.AxesSubplot at 0x22dacab5e48>"
      ]
     },
     "execution_count": 46,
     "metadata": {},
     "output_type": "execute_result"
    },
    {
     "data": {
      "image/png": "[encoded data removed]",
      "text/plain": [
       "<Figure size 1440x576 with 1 Axes>"
      ]
     },
     "metadata": {
      "needs_background": "light"
     },
     "output_type": "display_data"
    }
   ],
   "source": [
    "results.plot(x='gamma',y='Number of outliers',figsize=(20,8), grid=True, xlim = (0.000002,0.0002))"
   ]
  },
  {
   "cell_type": "code",
   "execution_count": 47,
   "metadata": {},
   "outputs": [
    {
     "name": "stdout",
     "output_type": "stream",
     "text": [
      "nu = 0.01\n",
      "Le modèle prédictif a bien identifié 73 fraudeurs, et s'est trompé sur 82 individus non fraudeurs\n"
     ]
    },
    {
     "data": {
      "image/png": "[encoded data removed]",
      "text/plain": [
       "<Figure size 1800x432 with 1 Axes>"
      ]
     },
     "metadata": {
      "needs_background": "light"
     },
     "output_type": "display_data"
    },
    {
     "name": "stdout",
     "output_type": "stream",
     "text": [
      "              precision    recall  f1-score   support\n",
      "\n",
      "           0       0.97      0.99      0.98     15000\n",
      "           1       0.47      0.15      0.23       492\n",
      "\n",
      "    accuracy                           0.97     15492\n",
      "   macro avg       0.72      0.57      0.60     15492\n",
      "weighted avg       0.96      0.97      0.96     15492\n",
      "\n",
      "PCA took 0.44 s\n"
     ]
    }
   ],
   "source": [
    "#https://thisdata.com/blog/unsupervised-machine-learning-with-one-class-support-vector-machines/\n",
    "from sklearn import svm\n",
    "\n",
    "\n",
    "# set nu (which should be the proportion of outliers in our dataset)\n",
    "\n",
    "t0 = time.time()\n",
    "\n",
    "\n",
    "nu = 0.01#expectation/data_std.shape[0]\n",
    "print(\"nu =\", nu)\n",
    "\n",
    "model = svm.OneClassSVM(nu=nu, shrinking= True, kernel='rbf',  gamma=0.000025)  \n",
    "model.fit(data_std)#data_std_reduced)\n",
    "preds = model.predict(data_std)#data_std_reduced) \n",
    "data_final[\"isFraudOCSVM\"]=0\n",
    "data_final[\"isFraudOCSVM\"]=abs(((preds+1)/2)-1)\n",
    "\n",
    "conf_matrix(data_final[\"isFraudOCSVM\"], Target)\n",
    "#visualisation_2D(np.array(data_final[\"isFraudIF\"]))\n",
    "#visualisation_3D(np.array(data_final[\"isFraudOCSVM\"]))\n",
    "print(classification_report(data_final.Class, data_final[\"isFraudOCSVM\"]))\n",
    "\n",
    "t1 = time.time()\n",
    "print(\"PCA took {:.3} s\".format(t1 - t0))"
   ]
  },
  {
   "cell_type": "markdown",
   "metadata": {},
   "source": [
    "### 3) DBSCAN "
   ]
  },
  {
   "cell_type": "code",
   "execution_count": null,
   "metadata": {},
   "outputs": [],
   "source": [
    "from sklearn.cluster import DBSCAN\n",
    "from sklearn import metrics\n",
    "\n",
    "A = []\n",
    "B = []\n",
    "C = []\n",
    "\n",
    "for i in np.linspace(10,60,40):\n",
    "    db = DBSCAN(eps=3, min_samples=i).fit(data_std_reduced)\n",
    "\n",
    "    core_samples_mask = np.zeros_like(db.labels_, dtype=bool)\n",
    "    core_samples_mask[db.core_sample_indices_] = True\n",
    "    labels = db.labels_\n",
    "    n_clusters_ = len(set(labels)) - (1 if -1 in labels else 0)\n",
    "    labels[labels!=0] = 1    \n",
    "    \n",
    "    sums = 0\n",
    "    for t in labels:\n",
    "        if t == 1: \n",
    "            sums = sums + 1\n",
    "    C.append(sums)\n",
    "            \n",
    "    \n",
    "    \n",
    "    A.append(i)\n",
    "    B.append(int(n_clusters_))"
   ]
  },
  {
   "cell_type": "code",
   "execution_count": null,
   "metadata": {},
   "outputs": [],
   "source": [
    "results = pd.DataFrame([A,B,C]).T\n",
    "results.columns = ['Nbr of samples in a neighborhood to be considered as a core','Number of clusters','Number of outliers']\n",
    "results.plot(x='Nbr of samples in a neighborhood to be considered as a core',y='Number of clusters',figsize=(10,6))"
   ]
  },
  {
   "cell_type": "code",
   "execution_count": null,
   "metadata": {},
   "outputs": [],
   "source": [
    "results = pd.DataFrame([A,B,C]).T\n",
    "results.columns = ['Nbr of samples in a neighborhood to be considered as a core','Number of clusters','Number of outliers']\n",
    "results.plot(x='Nbr of samples in a neighborhood to be considered as a core',y='Number of outliers',figsize=(10,6))"
   ]
  },
  {
   "cell_type": "code",
   "execution_count": null,
   "metadata": {},
   "outputs": [],
   "source": [
    "from sklearn.cluster import DBSCAN\n",
    "from sklearn import metrics\n",
    "t0 = time.time()\n",
    "db = DBSCAN(eps = 3,  min_samples=10).fit(data_std.values)#.iloc[:10000,:].values)\n",
    "t1 = time.time()\n",
    "print(\"PCA took {:.2} s\".format(t1 - t0))"
   ]
  },
  {
   "cell_type": "code",
   "execution_count": null,
   "metadata": {},
   "outputs": [],
   "source": [
    "import collections\n",
    "\n",
    "core_samples_mask = np.zeros_like(db.labels_, dtype=bool)\n",
    "core_samples_mask[db.core_sample_indices_] = True\n",
    "labels = db.labels_\n",
    "n_clusters_ = len(set(labels)) - (1 if -1 in labels else 0)\n",
    "print(n_clusters_)\n",
    "print(collections.Counter(labels))"
   ]
  },
  {
   "cell_type": "code",
   "execution_count": null,
   "metadata": {},
   "outputs": [],
   "source": [
    "from sklearn.cluster import DBSCAN\n",
    "from sklearn import metrics\n",
    "import collections\n",
    "\n",
    "t0 = time.time()\n",
    "\n",
    "labels = np.array([])\n",
    "for i in range(0, data_std.shape[0], data_std.shape[0]):\n",
    "    #print(i)\n",
    "    db = DBSCAN(eps = 6, min_samples=60).fit(data_std.iloc[i:i+data_std.shape[0],:].values)\n",
    "    core_samples_mask = np.zeros_like(db.labels_, dtype=bool)\n",
    "    core_samples_mask[db.core_sample_indices_] = True\n",
    "    labels = np.concatenate((labels,db.labels_))\n",
    "    n_clusters_ = len(set(labels)) - (1 if -1 in labels else 0)\n",
    "    print(n_clusters_)\n",
    "    print(collections.Counter(labels))\n",
    "#labels[labels!=0] = 1\n",
    "#collections.Counter(labels)\n",
    "\n",
    "t1 = time.time()\n",
    "print(\"PCA took {:.2} s\".format(t1 - t0))"
   ]
  },
  {
   "cell_type": "code",
   "execution_count": null,
   "metadata": {},
   "outputs": [],
   "source": [
    "from scipy.spatial import distance_matrix\n",
    "from sklearn.metrics import pairwise_distances\n",
    "\n",
    "\n",
    "t0 = time.time()\n",
    "\n",
    "\n",
    "tempClass = np.ones((data_std.shape[0]))\n",
    "epsilon = 3\n",
    "minpts = 10\n",
    "\n",
    "for i in range(0, data_std.shape[0]) :\n",
    "    temp=pairwise_distances(data_std.iloc[0:i+1,:],data_std.iloc[0:,:])[0]\n",
    "    temp[i] = np.nan\n",
    "    \n",
    "    if len(temp[temp<=3]) >= 10 :\n",
    "        tempClass[i] = 0\n",
    "        tempClass[temp<=3] = 0\n",
    "    \n",
    "    \n",
    "t1 = time.time()\n",
    "print(\"Compilation took {:.2} s\".format(t1 - t0))\n",
    "    "
   ]
  },
  {
   "cell_type": "code",
   "execution_count": 81,
   "metadata": {},
   "outputs": [
    {
     "data": {
      "text/plain": [
       "204807"
      ]
     },
     "execution_count": 81,
     "metadata": {},
     "output_type": "execute_result"
    }
   ],
   "source": [
    "data_std.shape[0]"
   ]
  },
  {
   "cell_type": "code",
   "execution_count": 17,
   "metadata": {},
   "outputs": [],
   "source": [
    "a = pairwise_distances(data_std.iloc[0:1,:],data_std.iloc[0:,:])\n",
    "a[0,0]= np.nan"
   ]
  },
  {
   "cell_type": "code",
   "execution_count": 63,
   "metadata": {},
   "outputs": [
    {
     "data": {
      "text/plain": [
       "array([1., 1., 1., ..., 1., 1., 1.])"
      ]
     },
     "execution_count": 63,
     "metadata": {},
     "output_type": "execute_result"
    }
   ],
   "source": [
    "np.ones((data_std.shape[0]))"
   ]
  },
  {
   "cell_type": "code",
   "execution_count": 54,
   "metadata": {},
   "outputs": [
    {
     "data": {
      "text/plain": [
       "(1667,)"
      ]
     },
     "execution_count": 54,
     "metadata": {},
     "output_type": "execute_result"
    }
   ],
   "source": [
    "c= a[0]\n",
    "c[c<3].shape"
   ]
  },
  {
   "cell_type": "code",
   "execution_count": 69,
   "metadata": {},
   "outputs": [
    {
     "data": {
      "text/plain": [
       "array([[ 0.        ,  4.53164671,  6.08936467, ..., 10.09747047,\n",
       "        13.37882765,  6.02609453]])"
      ]
     },
     "execution_count": 69,
     "metadata": {},
     "output_type": "execute_result"
    }
   ],
   "source": [
    "pairwise_distances(data_std.iloc[0:1,:],data_std.iloc[0:,:])"
   ]
  },
  {
   "cell_type": "code",
   "execution_count": 63,
   "metadata": {},
   "outputs": [
    {
     "name": "stdout",
     "output_type": "stream",
     "text": [
      "Le modèle prédictif a bien identifié 423 fraudeurs, et s'est trompé sur 1700 individus non fraudeurs\n"
     ]
    },
    {
     "data": {
      "image/png": "[encoded data removed]",
      "text/plain": [
       "<Figure size 1800x432 with 1 Axes>"
      ]
     },
     "metadata": {
      "needs_background": "light"
     },
     "output_type": "display_data"
    },
    {
     "name": "stdout",
     "output_type": "stream",
     "text": [
      "              precision    recall  f1-score   support\n",
      "\n",
      "           0       0.99      0.89      0.94     15000\n",
      "           1       0.20      0.86      0.32       492\n",
      "\n",
      "   micro avg       0.89      0.89      0.89     15492\n",
      "   macro avg       0.60      0.87      0.63     15492\n",
      "weighted avg       0.97      0.89      0.92     15492\n",
      "\n"
     ]
    }
   ],
   "source": [
    "#import collections\n",
    "\n",
    "#collections.Counter(labels)\n",
    "labels[labels !=-1] = 0\n",
    "labels[labels==-1] = 1\n",
    "#labels[labels!=-1] = 0\n",
    "\n",
    "#collections.Counter(labels)\n",
    "\n",
    "conf_matrix(labels, Target.values)\n",
    "#visualisation_2D(labels)\n",
    "#visualisation_3D(labels)\n",
    "print(classification_report(data_final.Class, labels))\n",
    "data_final[\"isFraudDB\"] = labels\n"
   ]
  },
  {
   "cell_type": "markdown",
   "metadata": {},
   "source": [
    "### K-Means Modif"
   ]
  },
  {
   "cell_type": "code",
   "execution_count": 27,
   "metadata": {},
   "outputs": [],
   "source": [
    "km = KMeans(2)\n",
    "temp = km.fit_predict(data_std)"
   ]
  },
  {
   "cell_type": "code",
   "execution_count": 29,
   "metadata": {},
   "outputs": [
    {
     "data": {
      "text/plain": [
       "41861"
      ]
     },
     "execution_count": 29,
     "metadata": {},
     "output_type": "execute_result"
    }
   ],
   "source": [
    "sum(temp)"
   ]
  },
  {
   "cell_type": "code",
   "execution_count": 20,
   "metadata": {},
   "outputs": [
    {
     "name": "stdout",
     "output_type": "stream",
     "text": [
      "L'individu le plus récurrent est apparu 0 fois sur 2\n",
      "Le vecteur des score se répartit de la sorte : [0. 0. 0. 0. 0.]\n"
     ]
    },
    {
     "data": {
      "image/png": "[encoded data removed]",
      "text/plain": [
       "<Figure size 1008x360 with 2 Axes>"
      ]
     },
     "metadata": {
      "needs_background": "light"
     },
     "output_type": "display_data"
    },
    {
     "name": "stdin",
     "output_type": "stream",
     "text": [
      " La tolérance est fixée à (entre 0 et 1):  0\n"
     ]
    },
    {
     "name": "stdout",
     "output_type": "stream",
     "text": [
      "Le nombre d'individus avec un score supérieur à 0.0 est de 284807\n"
     ]
    },
    {
     "data": {
      "text/plain": [
       "284807"
      ]
     },
     "execution_count": 20,
     "metadata": {},
     "output_type": "execute_result"
    }
   ],
   "source": [
    "print(\"L'individu le plus récurrent est apparu\", int(is_fraud_km.max()*nbiters*(n_clusters_max-2+1))  ,'fois sur', nbiters*(n_clusters_max-2+1))\n",
    "print(\"Le vecteur des score se répartit de la sorte :\", np.percentile(np.array(is_fraud_km), [25, 50, 75, 90, 95]))\n",
    "\n",
    "f, (ax1,ax2) = plt.subplots(1,2,figsize=(14, 5))\n",
    "f.suptitle('Répartition des scores')\n",
    "sns.boxplot(y=is_fraud_km, ax= ax1)\n",
    "sns.distplot(is_fraud_km, ax= ax2)\n",
    "plt.show()\n",
    "\n",
    "\n",
    "tol1 = input(' La tolérance est fixée à (entre 0 et 1): ')\n",
    "tol1 = float(tol1)\n",
    "nbr= np.shape(is_fraud_km[is_fraud_km>=tol1])[0]\n",
    "print(\"Le nombre d'individus avec un score supérieur à\", tol1, \"est de\", nbr)\n",
    "\n",
    "is_fraud_km2 = np.zeros(len(data_std))\n",
    "is_fraud_km2[is_fraud_km>=tol1] = 1\n",
    "len(is_fraud_km2)\n",
    "#cm_som = conf_matrix(is_fraud_km2)\n",
    "#visualisation_3D(is_fraud_km2)\n",
    "#print(classification_report(data_final.Class, is_fraud_km2))"
   ]
  },
  {
   "cell_type": "markdown",
   "metadata": {},
   "source": [
    "## Deep Learning"
   ]
  },
  {
   "cell_type": "markdown",
   "metadata": {},
   "source": [
    "## Restricted Boltzmann machines"
   ]
  },
  {
   "cell_type": "code",
   "execution_count": 9,
   "metadata": {},
   "outputs": [],
   "source": [
    "# Importing the libraries\n",
    "import numpy as np\n",
    "import pandas as pd\n",
    "import torch\n",
    "import torch.nn.parallel\n",
    "import torch.utils.data\n",
    "from torch.distributions.normal import Normal\n",
    "from torch.distributions import MultivariateNormal, StudentT\n",
    "from sklearn.model_selection import train_test_split\n",
    "\n",
    "\n",
    "# Creating the architecture of the Neural Network\n",
    "class RBM():\n",
    "    \n",
    "    def __init__(self, nv, nh, alpha =0.001, momentum = 0.9, l2=0.01, scale = 'normalize', type_units = 'Gaussian-Binary'):\n",
    "        \"\"\"\n",
    "        scale : 'standardize' or 'normalize'\n",
    "        type_units : 'Gaussian-Binary' or 'Gaussian-Gaussian'\n",
    "        \"\"\"\n",
    "        self.nh = nh\n",
    "        self.nv = nv\n",
    "        self.W = torch.randn(self.nh, self.nv)/10 #Normal(torch.tensor([0.0]), torch.tensor([0.01])).sample() #torch.randn(nh, nv)\n",
    "        self.a = torch.randn(1, self.nh)*0 #torch.randn(1, nh)/5\n",
    "        self.b = torch.randn(1, self.nv)*0 #torch.randn(1, nv)/5\n",
    "        self.momentum = momentum\n",
    "        self.alpha = alpha\n",
    "        self.scale = scale\n",
    "        self.type_units = type_units\n",
    "        self.dw = torch.randn(self.nh, self.nv)*0\n",
    "        self.l2 = l2\n",
    "    \n",
    "    #def train_test_split_RBM(self, X_train, y, size) :\n",
    "        \n",
    "        '''  \n",
    "        test_size : float between 0 and 1\n",
    "        ''' \n",
    "        \n",
    "        #X_train, X_test, y_train, y_test = train_test_split(X[y == 0], y[y == 0], test_size = size)\n",
    "        #X_test = X_test.append( X[y == 1])\n",
    "        #y_test = y_test.append( y[y == 1])\n",
    "\n",
    "        # Converting the data into Torch tensors\n",
    "        #training_set_RBM = torch.FloatTensor(X_train.values)\n",
    "        #test_set_RBM = torch.FloatTensor(X_test.values)\n",
    "        \n",
    "        #return X_train, X_test, y_train, y_test, training_set_RBM, test_set_RBM\n",
    "    \n",
    "    def preprocess(self, df) :\n",
    "        \"\"\"\n",
    "        scale : 'standardize' or 'normalize'\n",
    "        \"\"\"\n",
    "        \n",
    "        scale = self.scale \n",
    "        \n",
    "        if scale == 'standardize' :\n",
    "            scaler = StandardScaler()\n",
    "\n",
    "        if scale == 'normalize' :\n",
    "            scaler = MinMaxScaler(feature_range=(0.05,0.95))\n",
    "\n",
    "        df_scaled = pd.DataFrame(scaler.fit_transform(df))\n",
    "        \n",
    "        #scaler2 = MinMaxScaler()\n",
    "        #df_scaled = pd.DataFrame(scaler2.fit_transform(df_scaled))\n",
    "        #df_scaled.columns = df.columns  \n",
    "\n",
    "\n",
    "        return df_scaled\n",
    "    \n",
    "    def sample_h(self, x):\n",
    "        wx = torch.mm(x, self.W.t())\n",
    "        activation = wx + self.a.expand_as(wx)\n",
    "        p_h_given_v = torch.sigmoid(activation)\n",
    "        #print(activation)\n",
    "        #print(p_h_given_v)\n",
    "        #print(nh)\n",
    "        \n",
    "        type_units = self.type_units\n",
    "        \n",
    "        if type_units == 'Gaussian-Binary' :\n",
    "            return p_h_given_v, torch.bernoulli(p_h_given_v)#MultivariateNormal(activation, torch.eye(self.nh,self.nh)).sample()#torch.bernoulli(p_h_given_v) #MultivariateNormal(activation, torch.eye(nh,nh)).sample() #torch.bernoulli(p_h_given_v)\n",
    "    \n",
    "        if type_units == 'Gaussian-Gaussian' :\n",
    "            return p_h_given_v, MultivariateNormal(activation, torch.eye(self.nh,self.nh)).sample()\n",
    "        \n",
    "    def sample_v(self, y):\n",
    "        wy = torch.mm(y, self.W)\n",
    "        activation = wy + self.b.expand_as(wy)\n",
    "        #print(activation)\n",
    "        p_v_given_h = torch.sigmoid(activation)\n",
    "        #mean = activation \n",
    "        #std = torch.FloatTensor(np.identity(mean.shape[0]))\n",
    "        #print(nh)\n",
    "        \n",
    "        \n",
    "        return p_v_given_h, MultivariateNormal(activation, torch.eye(self.nv,self.nv)).sample()#torch.normal(activation , 1.0)#torch.bernoulli(p_v_given_h) #torch.normal(activation , 1) #p_v_given_h)\n",
    "    \n",
    "    def train(self, v0, vk, ph0, phk):\n",
    "        #self.W += self.alpha*(torch.mm(v0.t(), ph0) - torch.mm(vk.t(), phk)).t()\n",
    "        \n",
    "        #dw = positive - negative\n",
    "        #self.dw = self.momentum*self.dw + (1-self.momentum)*dw\n",
    "        #self.w_upd8 = self.W.assign_add(self.learning_rate*self.dw - self.learning_rate*self.l2*self.W)\n",
    "        \n",
    "        dw = (torch.mm(v0.t(), ph0) - torch.mm(vk.t(), phk)).t()\n",
    "        self.dw = self.momentum*self.dw + (1-self.momentum)*dw\n",
    "        self.W = self.alpha*self.dw - self.alpha*self.l2*self.W\n",
    "        \n",
    "        #self.W = self.momentum*self.W + self.alpha*(torch.mm(v0.t(), ph0) - torch.mm(vk.t(), phk)).t()\n",
    "        \n",
    "        #self.W = self.momentum*self.W + (1-self.momentum)*(torch.mm(v0.t(), ph0) - torch.mm(vk.t(), phk)).t()\n",
    "        \n",
    "        #self.W += torch.mm(ph0, v0) - torch.mm(phk, vk)\n",
    "        self.b = self.momentum*self.b + self.alpha*torch.sum((v0 - vk), 0)\n",
    "        self.a = self.momentum*self.a + self.alpha*torch.sum((ph0 - phk), 0)\n",
    "\n",
    "\n",
    "    def train_RBM(self, training_set, batch_size, nbr_epochs) :\n",
    "        \n",
    "        #nh = self.nh\n",
    "        \n",
    "        training_set = self.preprocess(np.array(training_set))\n",
    "        training_set_scaled = torch.FloatTensor(training_set.values)\n",
    "        \n",
    "        print('Processing Training...')\n",
    "        nb_transacs = (training_set.shape[0])\n",
    "\n",
    "        # Training the RBM\n",
    "\n",
    "        train_target = np.zeros(nb_transacs)\n",
    "\n",
    "        for epoch in range(1, nbr_epochs + 1):\n",
    "            print('Epoch ' + str(epoch) + '...')\n",
    "\n",
    "\n",
    "            train_loss = 0\n",
    "            s = 0.\n",
    "            for id_transac in range(0, nb_transacs - batch_size, batch_size):\n",
    "                vk = training_set_scaled[id_transac:id_transac+batch_size]\n",
    "                #print(vk)\n",
    "                v0 = training_set_scaled[id_transac:id_transac+batch_size]\n",
    "                #print(v0)   \n",
    "                ph0,_ = self.sample_h(v0)\n",
    "                for k in range(5):\n",
    "                    #print(k)\n",
    "                    _, hk = self.sample_h(vk)\n",
    "                    _, vk = self.sample_v(hk)\n",
    "                    #print(hk)\n",
    "                phk,_ = self.sample_h(vk)\n",
    "                self.train(v0, vk, ph0, phk)\n",
    "                #print(+2)\n",
    "                train_loss += np.sqrt(torch.mean(v0 - vk)**2)\n",
    "                train_target[id_transac] = (np.sqrt(torch.mean(v0 - vk)**2))\n",
    "\n",
    "                s += 1.\n",
    "\n",
    "            print('epoch: '+str(epoch)+' loss: '+str(train_loss/s))\n",
    "\n",
    "        return training_set_scaled\n",
    "        \n",
    "    def test_RBM(self, test_set) :\n",
    "        \n",
    "        test_set = self.preprocess(np.array(test_set))\n",
    "        test_set_scaled = torch.FloatTensor(test_set.values)\n",
    "        \n",
    "        print('Processing Testing...')\n",
    "        # Testing the RBM\n",
    "        nb_transacs_test = test_set_scaled.shape[0]\n",
    "        test_loss = 0\n",
    "        s = 0.\n",
    "        test_target = np.zeros(nb_transacs_test)\n",
    "        for id_transac in range(nb_transacs_test-1):\n",
    "            vt = test_set_scaled[id_transac:id_transac+1]\n",
    "            _, h = self.sample_h(vt)\n",
    "            _,vtk = self.sample_v(h)\n",
    "            test_loss += np.sqrt(torch.mean(vt - vtk)**2)\n",
    "            test_target[id_transac] = (np.sqrt(torch.mean(vt - vtk)**2))\n",
    "            s += 1.\n",
    "        print('test loss: '+str(test_loss/s))\n",
    "        \n",
    "        return test_target, test_set_scaled\n",
    "    \n",
    "    def free_energy_calc(self, df) :\n",
    "        # Free energy \n",
    "        free_energy = np.zeros(len(df))\n",
    "        x = self.a+ torch.mm(self.W, df.t()).t()\n",
    "        \n",
    "        type_units = self.type_units\n",
    "        \n",
    "        if type_units== 'Gaussian-Binary' :\n",
    "            \n",
    "            for i in range(0,len(df)) :\n",
    "                free_energy[i] = 0.5*(torch.dist(self.b, df[i])**2) - sum(np.log(np.exp(x[i])+1))\n",
    "        \n",
    "        if type_units== 'Gaussian-Gaussian' :\n",
    "            \n",
    "            for i in range(0,len(df)) :\n",
    "                z = torch.norm(torch.mm(self.W, df[1].reshape(-1,1)))**2\n",
    "                m3m = torch.mm(self.a , torch.mm(self.W, df[1].reshape(-1,1)))\n",
    "                free_energy[i] = 0.5*(torch.dist(self.b, df[i])**2) - (self.nh*np.log(2*np.pi)/2) - z/2 - m3m\n",
    "        \n",
    "        return free_energy"
   ]
  },
  {
   "cell_type": "code",
   "execution_count": 40,
   "metadata": {},
   "outputs": [],
   "source": [
    "#Multivariate data frame\n",
    "\n",
    "lng = 100\n",
    "\n",
    "data_tst = np.random.multivariate_normal(np.zeros(lng), np.eye(lng), 30).T\n",
    "\n",
    "for i in range(0,200) : \n",
    "    data_tst = np.append(data_tst,(np.random.multivariate_normal(np.zeros(lng), np.eye(lng), 30).T), axis=0)\n",
    "    \n",
    "data_tst = pd.DataFrame(data_tst)\n",
    "data_tst['Class'] = 0\n",
    "data_tst.columns = data.iloc[:,0:31].columns\n",
    "\n",
    "Target_tst = data_tst.Class\n",
    "#data_tst = data_tst.drop([data_tst.columns[-1]], axis=1)\n",
    "\n",
    "X_train = data_tst.drop([data_tst.columns[-1]], axis=1)\n",
    "y_train = Target_tst\n",
    "\n",
    "dd = pd.DataFrame(np.exp(np.random.rand(500,30))+2)\n",
    "dd = np.append(dd,(np.random.multivariate_normal(np.zeros(2500), np.eye(2500), 30).T), axis=0)\n",
    "\n",
    "data_tst2 = pd.DataFrame(dd)\n",
    "data_tst2['Class'] = 0\n",
    "data_tst2.loc[0:500,'Class'] = 1\n",
    "data_tst2.columns = data.iloc[:,0:31].columns\n",
    "y_test = data_tst2.Class\n",
    "X_test = data_tst2.drop([data_tst2.columns[-1]], axis=1)"
   ]
  },
  {
   "cell_type": "code",
   "execution_count": 1,
   "metadata": {},
   "outputs": [],
   "source": [
    "# Converting the data into Torch tensors\n",
    "training_set_RBM = torch.FloatTensor(X_train.values)\n",
    "test_set_RBM = torch.FloatTensor(X_test.values)\n",
    "\n",
    "\n",
    "nbr_visible = len(training_set_RBM[0])\n",
    "nbr_hidden = 20\n",
    "\n",
    "#alpha = 0.001 #learning rate\n",
    "#momentum = 0\n",
    "#rbm = RBM(nv, nh)\n",
    "#mod = rbm.train_RBM(training_set, nh, 100, nbr_epochs = 4)\n",
    "#test_target = rbm.test_RBM(test_set)\n",
    "\n",
    "rbm = RBM(nbr_visible, nbr_hidden, momentum = 0.9, alpha = 0.001, type_units='Gaussian-Gaussian')\n",
    "\n",
    "#X_train, X_test, y_train, y_test, training_set_RBM, test_set_RBM = rbm.train_test_split_RBM(X, y, size = 0.2)\n",
    "\n",
    "train_set_scaled = rbm.train_RBM(training_set_RBM, batch_size = 64, nbr_epochs = 5)\n",
    "test_target, test_set_scaled = rbm.test_RBM(test_set_RBM)\n",
    "free_energy = rbm.free_energy_calc(test_set_scaled)\n"
   ]
  },
  {
   "cell_type": "code",
   "execution_count": 22,
   "metadata": {},
   "outputs": [
    {
     "data": {
      "text/plain": [
       "array([0.19538518, 0.19535693, 0.19589372, 0.364532  , 1.39065735,\n",
       "       0.19654353, 0.19623275])"
      ]
     },
     "execution_count": 22,
     "metadata": {},
     "output_type": "execute_result"
    }
   ],
   "source": [
    "a = np.array([2,1,20,5989,42309,43,32])\n",
    "(a+np.mean(a))/(max(a)-np.mean(a))"
   ]
  },
  {
   "cell_type": "code",
   "execution_count": 105,
   "metadata": {},
   "outputs": [
    {
     "data": {
      "text/plain": [
       "array([1, 1, 1, ..., 0, 0, 0], dtype=int32)"
      ]
     },
     "execution_count": 105,
     "metadata": {},
     "output_type": "execute_result"
    }
   ],
   "source": [
    "from sklearn.cluster import KMeans\n",
    "km = KMeans(2)\n",
    "km.fit_predict(free_energy.reshape(-1,1))\n"
   ]
  },
  {
   "cell_type": "code",
   "execution_count": 42,
   "metadata": {
    "scrolled": true
   },
   "outputs": [
    {
     "name": "stdout",
     "output_type": "stream",
     "text": [
      "Le modèle prédictif a bien identifié 370 fraudeurs, et s'est trompé sur 130 individus non fraudeurs\n"
     ]
    },
    {
     "data": {
      "image/png": "[encoded data removed]",
      "text/plain": [
       "<Figure size 1800x432 with 1 Axes>"
      ]
     },
     "metadata": {
      "needs_background": "light"
     },
     "output_type": "display_data"
    },
    {
     "name": "stdout",
     "output_type": "stream",
     "text": [
      "              precision    recall  f1-score   support\n",
      "\n",
      "           0       0.95      0.95      0.95      2499\n",
      "           1       0.74      0.74      0.74       501\n",
      "\n",
      "   micro avg       0.91      0.91      0.91      3000\n",
      "   macro avg       0.84      0.84      0.84      3000\n",
      "weighted avg       0.91      0.91      0.91      3000\n",
      "\n"
     ]
    }
   ],
   "source": [
    "#MSE\n",
    "#km = KMeans(2)\n",
    "#data_final['free_energy'] = np.array(free_energy.reshape(-1,1))\n",
    "data_final2 = data_tst2\n",
    "tmp = pd.DataFrame(columns = ['score', 'ind'])\n",
    "\n",
    "tmp['score'] = (test_target)#pd.DataFrame(np.array(free_energy.reshape(-1,1)))#pd.DataFrame(test_target)#pd.DataFrame(np.array(free_energy.reshape(-1,1)))#\n",
    "tmp['ind'] = X_test.index\n",
    "\n",
    "data_final2['isFraudRBM_Multiv'] = 0#km.fit_predict(test_target.reshape(-1,1))\n",
    "data_final2['isFraudRBM_Multiv'][tmp.sort_values('score', ascending=False).head(500).ind.values] = 1\n",
    "conf_matrix(data_final2['isFraudRBM_Multiv'], data_final2.Class)\n",
    "#visualisation_2D(data_final['isFraudNN'])\n",
    "print(classification_report(data_final2.Class, data_final2['isFraudRBM_Multiv']))"
   ]
  },
  {
   "cell_type": "code",
   "execution_count": 43,
   "metadata": {},
   "outputs": [
    {
     "name": "stdout",
     "output_type": "stream",
     "text": [
      "Le modèle prédictif a bien identifié 500 fraudeurs, et s'est trompé sur 0 individus non fraudeurs\n"
     ]
    },
    {
     "data": {
      "image/png": "[encoded data removed]",
      "text/plain": [
       "<Figure size 1800x432 with 1 Axes>"
      ]
     },
     "metadata": {
      "needs_background": "light"
     },
     "output_type": "display_data"
    },
    {
     "name": "stdout",
     "output_type": "stream",
     "text": [
      "              precision    recall  f1-score   support\n",
      "\n",
      "           0       1.00      1.00      1.00      2499\n",
      "           1       1.00      1.00      1.00       501\n",
      "\n",
      "   micro avg       1.00      1.00      1.00      3000\n",
      "   macro avg       1.00      1.00      1.00      3000\n",
      "weighted avg       1.00      1.00      1.00      3000\n",
      "\n"
     ]
    }
   ],
   "source": [
    "#free energy\n",
    "\n",
    "#data_final['free_energy'] = np.array(free_energy.reshape(-1,1))\n",
    "\n",
    "data_final2 = data_tst2\n",
    "tmp = pd.DataFrame(columns = ['score', 'ind'])\n",
    "tmp['score'] = np.array(free_energy)#pd.DataFrame(np.array(free_energy.reshape(-1,1)))#pd.DataFrame(test_target)#pd.DataFrame(np.array(free_energy.reshape(-1,1)))#\n",
    "tmp['ind'] = X_test.index\n",
    "\n",
    "data_final2['isFraudRBM'] = 0#km.fit_predict(free_energy.reshape(-1,1))\n",
    "data_final2['isFraudRBM'][tmp.sort_values('score', ascending=False).head(500).ind.values] = 1\n",
    "conf_matrix(data_final2['isFraudRBM'], y_test)\n",
    "#visualisation_2D(data_final['isFraudNN'])\n",
    "print(classification_report(y_test, data_final2['isFraudRBM']))\n"
   ]
  },
  {
   "cell_type": "code",
   "execution_count": 107,
   "metadata": {},
   "outputs": [],
   "source": [
    "data = pd.read_csv(\"/Users/akrim/Downloads/creditcard 2.csv\")\n"
   ]
  },
  {
   "cell_type": "code",
   "execution_count": 104,
   "metadata": {},
   "outputs": [
    {
     "data": {
      "text/plain": [
       "(269315, 29)"
      ]
     },
     "execution_count": 104,
     "metadata": {},
     "output_type": "execute_result"
    }
   ],
   "source": [
    "data4.iloc[:,1:-1].shape"
   ]
  },
  {
   "cell_type": "code",
   "execution_count": 27,
   "metadata": {},
   "outputs": [],
   "source": [
    "data5 = data4.sample(n=30000)\n",
    "X_train = data5.iloc[:,1:-1] #data_train.iloc[:,1:-1]\n",
    "y_train = data5.iloc[:,-1]\n",
    "nbr_visible = data5.iloc[:,1:-1].shape[1]"
   ]
  },
  {
   "cell_type": "code",
   "execution_count": 28,
   "metadata": {
    "scrolled": true
   },
   "outputs": [
    {
     "name": "stdout",
     "output_type": "stream",
     "text": [
      "Processing Training...\n",
      "Epoch 1...\n",
      "epoch: 1 loss: tensor(0.0215)\n",
      "Epoch 2...\n",
      "epoch: 2 loss: tensor(0.0211)\n",
      "Epoch 3...\n",
      "epoch: 3 loss: tensor(0.0192)\n",
      "Epoch 4...\n",
      "epoch: 4 loss: tensor(0.0191)\n",
      "Epoch 5...\n",
      "epoch: 5 loss: tensor(0.0203)\n",
      "Epoch 6...\n",
      "epoch: 6 loss: tensor(0.0195)\n",
      "Epoch 7...\n",
      "epoch: 7 loss: tensor(0.0208)\n",
      "Epoch 8...\n",
      "epoch: 8 loss: tensor(0.0193)\n",
      "Epoch 9...\n",
      "epoch: 9 loss: tensor(0.0195)\n",
      "Epoch 10...\n",
      "epoch: 10 loss: tensor(0.0199)\n",
      "Processing Testing...\n",
      "test loss: tensor(0.1950)\n"
     ]
    }
   ],
   "source": [
    "#data = pd.read_csv(\"/Users/akrim/Downloads/creditcard 2.csv\")\n",
    "\n",
    "\n",
    "#X_train = data_train.iloc[:,1:-1]#data_train.iloc[:,1:-1]\n",
    "#y_train = data_train.iloc[:,-1]\n",
    "\n",
    "X_test = data.iloc[:,1:-1]\n",
    "y_test = data.iloc[:,-1]\n",
    "\n",
    "#nbr_visible = data_train.iloc[:,1:-1].shape[1]\n",
    "nbr_hidden = 15\n",
    "\n",
    "rbm = RBM(nbr_visible, nbr_hidden, momentum = 0.95, scale = 'standardize', alpha = 0.0001, type_units='Gaussian-Binary')\n",
    "\n",
    "\n",
    "\n",
    "training_set_RBM = torch.FloatTensor(X_train.values)\n",
    "test_set_RBM = torch.FloatTensor(X_test.values)\n",
    "\n",
    "train_set_scaled = rbm.train_RBM(training_set_RBM, batch_size = 100, nbr_epochs = 10)\n",
    "test_target, test_set_scaled = rbm.test_RBM(test_set_RBM)\n",
    "#free_energy_train = rbm.free_energy_calc(train_set_scaled)\n",
    "free_energy_test = rbm.free_energy_calc(test_set_scaled)"
   ]
  },
  {
   "cell_type": "code",
   "execution_count": 74,
   "metadata": {},
   "outputs": [],
   "source": [
    "#data = pd.read_csv(\"/Users/akrim/Downloads/creditcard 2.csv\")\n",
    "X = data.iloc[:,1:-1]\n",
    "y = data.iloc[:,-1]\n",
    "\n",
    "nbr_visible = data.iloc[:,1:-1].shape[1]\n",
    "nbr_hidden = 15\n",
    "\n",
    "rbm = RBM(nbr_visible, nbr_hidden, momentum = 0.95, scale = 'standardize', alpha = 0.0001, type_units='Gaussian-Gaussian')\n",
    "\n",
    "#X_train, X_test, y_train, y_test, training_set_RBM, test_set_RBM = rbm.train_test_split_RBM(X, y, size = 1-80000/data.shape[0])#0.2)\n",
    "\n",
    "X_train, X_test, y_train, y_test = train_test_split(X[y == 0], y[y == 0], test_size = 0.2)\n",
    "X_test = X_test.append( X[y == 1])\n",
    "y_test = y_test.append( y[y == 1])\n",
    "\n",
    "#training_set_RBM = torch.FloatTensor(X_train.values)\n",
    "#test_set_RBM = torch.FloatTensor(X_test.values)\n",
    "\n",
    "#train_set_scaled = rbm.train_RBM(training_set_RBM, batch_size = 1, nbr_epochs = 10)\n",
    "#test_target, test_set_scaled = rbm.test_RBM(test_set_RBM)\n",
    "#free_energy_train = rbm.free_energy_calc(train_set_scaled)\n",
    "#free_energy_test = rbm.free_energy_calc(test_set_scaled)\n"
   ]
  },
  {
   "cell_type": "code",
   "execution_count": null,
   "metadata": {},
   "outputs": [],
   "source": [
    "# learning rate graph : weights !\n",
    "# hidden ?"
   ]
  },
  {
   "cell_type": "code",
   "execution_count": 59,
   "metadata": {},
   "outputs": [],
   "source": [
    "data2 = data.iloc[:,1:]"
   ]
  },
  {
   "cell_type": "code",
   "execution_count": 108,
   "metadata": {},
   "outputs": [
    {
     "name": "stdout",
     "output_type": "stream",
     "text": [
      "Le modèle prédictif a bien identifié 37 fraudeurs, et s'est trompé sur 2963 individus non fraudeurs\n"
     ]
    },
    {
     "data": {
      "image/png": "[encoded data removed]",
      "text/plain": [
       "<Figure size 1800x432 with 1 Axes>"
      ]
     },
     "metadata": {
      "needs_background": "light"
     },
     "output_type": "display_data"
    },
    {
     "name": "stdout",
     "output_type": "stream",
     "text": [
      "              precision    recall  f1-score   support\n",
      "\n",
      "           0       0.96      0.80      0.88     15000\n",
      "           1       0.01      0.08      0.02       492\n",
      "\n",
      "   micro avg       0.78      0.78      0.78     15492\n",
      "   macro avg       0.49      0.44      0.45     15492\n",
      "weighted avg       0.93      0.78      0.85     15492\n",
      "\n"
     ]
    }
   ],
   "source": [
    "#MSE\n",
    "\n",
    "#data_final['free_energy'] = np.array(free_energy.reshape(-1,1))\n",
    "#preds = model.fit_predict(test_target.reshape(-1,1))#data_std_reduced)\n",
    "\n",
    "data_final2 = X_test#X_test\n",
    "tmp = pd.DataFrame(columns = ['score', 'ind'])\n",
    "tmp['score'] = (test_target)#pd.DataFrame(np.array(free_energy.reshape(-1,1)))#pd.DataFrame(test_target)#pd.DataFrame(np.array(free_energy.reshape(-1,1)))#\n",
    "tmp['ind'] = X_test.index#X_test.index\n",
    "\n",
    "data_final2['isFraudRBM'] = 0#abs(((preds+1)/2)-1)#km.fit_predict(test_target.reshape(-1,1))\n",
    "data_final2['isFraudRBM'][tmp.sort_values('score', ascending=True).head(3000).ind.values] = 1\n",
    "conf_matrix(data_final2['isFraudRBM'], y_test)#y_test)\n",
    "#visualisation_2D(data_final['isFraudNN'])\n",
    "print(classification_report(y_test, data_final2['isFraudRBM']))\n"
   ]
  },
  {
   "cell_type": "code",
   "execution_count": 99,
   "metadata": {},
   "outputs": [
    {
     "data": {
      "image/png": "[encoded data removed]",
      "text/plain": [
       "<Figure size 432x288 with 1 Axes>"
      ]
     },
     "metadata": {
      "needs_background": "light"
     },
     "output_type": "display_data"
    }
   ],
   "source": [
    "plt.hist(free_energy_test, bins=200)\n",
    "plt.show()"
   ]
  },
  {
   "cell_type": "code",
   "execution_count": 34,
   "metadata": {},
   "outputs": [
    {
     "data": {
      "text/plain": [
       "array([13.29102135, -2.98998642, -1.27346325, ..., 20.66119003,\n",
       "       52.68045044, -3.51208639])"
      ]
     },
     "execution_count": 34,
     "metadata": {},
     "output_type": "execute_result"
    }
   ],
   "source": [
    "free_energy_test"
   ]
  },
  {
   "cell_type": "markdown",
   "metadata": {},
   "source": [
    "# 80000 train"
   ]
  },
  {
   "cell_type": "code",
   "execution_count": 22,
   "metadata": {},
   "outputs": [
    {
     "name": "stdout",
     "output_type": "stream",
     "text": [
      "nu = 0.01\n",
      "Le modèle prédictif a bien identifié 279 fraudeurs, et s'est trompé sur 1769 individus non fraudeurs\n"
     ]
    },
    {
     "data": {
      "image/png": "[encoded data removed]",
      "text/plain": [
       "<Figure size 1800x432 with 1 Axes>"
      ]
     },
     "metadata": {
      "needs_background": "light"
     },
     "output_type": "display_data"
    },
    {
     "name": "stdout",
     "output_type": "stream",
     "text": [
      "              precision    recall  f1-score   support\n",
      "\n",
      "           0       1.00      0.99      1.00    204315\n",
      "           1       0.14      0.57      0.22       492\n",
      "\n",
      "   micro avg       0.99      0.99      0.99    204807\n",
      "   macro avg       0.57      0.78      0.61    204807\n",
      "weighted avg       1.00      0.99      0.99    204807\n",
      "\n"
     ]
    }
   ],
   "source": [
    "## Gaussian-Gaussian\n",
    "\n",
    "\n",
    "#free energy\n",
    "from sklearn.cluster import KMeans\n",
    "km = KMeans(2)\n",
    "\n",
    "nu = 0.01\n",
    "print(\"nu =\", nu)\n",
    "\n",
    "#model = svm.OneClassSVM(shrinking= True, kernel='rbf')  \n",
    "\n",
    "\n",
    "data_final2 = X_test#X_test\n",
    "\n",
    "\n",
    "#contam = 3000/len(free_energy_test) #2000/data_std.shape[0] #expectation/data_std.shape[0] #1650/data_std.shape[0] #Supposons l'existence de 1000 fraudeurs au plus\n",
    "#is_fraud_IF = []\n",
    "#is_fraud_IF, threshold =IF_reiter(free_energy_test.reshape(-1,1),{100, 150, 200, 250, 300}, is_fraud_IF,5,contam)\n",
    "\n",
    "\n",
    "#data_final2[\"isFraudRBM\"]=0\n",
    "\n",
    "#data_final2.loc[is_fraud_IF>threshold,['isFraudRBM']]=1\n",
    "#data_final2.loc[is_fraud_IF<=threshold,['isFraudRBM']]=0\n",
    "\n",
    "\n",
    "\n",
    "#data_final['free_energy'] = np.array(free_energy.reshape(-1,1))\n",
    "#preds = model.fit_predict(free_energy2.reshape(-1,1))#data_std_reduced)\n",
    "#preds = clf.predict(free_energy_test.reshape(-1,1))\n",
    "\n",
    "\n",
    "data_final2 = X_test#X_test\n",
    "tmp = pd.DataFrame(columns = ['score', 'ind'])\n",
    "tmp['score'] = np.array(free_energy_test)#pd.DataFrame(np.array(free_energy.reshape(-1,1)))#pd.DataFrame(test_target)#pd.DataFrame(np.array(free_energy.reshape(-1,1)))#\n",
    "tmp['ind'] = X_test.index#X_test.index\n",
    "\n",
    "data_final2['isFraudRBM'] = 0#abs(((preds+1)/2)-1)#0#abs(((preds+1)/2)-1)#km.fit_predict(free_energy2.reshape(-1,1))#abs(((preds+1)/2)-1)#\n",
    "\n",
    "data_final2['isFraudRBM'][tmp.sort_values('score', ascending=False).head(int(0.01*data.shape[0])).ind.values] = 1  #int(0.01*data.shape[0])\n",
    "conf_matrix(data_final2['isFraudRBM'], y_test)#y_test)\n",
    "#visualisation_2D(data_final['isFraudNN'])\n",
    "print(classification_report(y_test, data_final2['isFraudRBM']))\n",
    "\n",
    "free_energy80k = free_energy_test"
   ]
  },
  {
   "cell_type": "markdown",
   "metadata": {},
   "source": [
    "# 5000 train"
   ]
  },
  {
   "cell_type": "code",
   "execution_count": 26,
   "metadata": {},
   "outputs": [
    {
     "name": "stdout",
     "output_type": "stream",
     "text": [
      "nu = 0.01\n",
      "Le modèle prédictif a bien identifié 280 fraudeurs, et s'est trompé sur 1768 individus non fraudeurs\n"
     ]
    },
    {
     "data": {
      "image/png": "[encoded data removed]",
      "text/plain": [
       "<Figure size 1800x432 with 1 Axes>"
      ]
     },
     "metadata": {
      "needs_background": "light"
     },
     "output_type": "display_data"
    },
    {
     "name": "stdout",
     "output_type": "stream",
     "text": [
      "              precision    recall  f1-score   support\n",
      "\n",
      "           0       1.00      0.99      1.00    204315\n",
      "           1       0.14      0.57      0.22       492\n",
      "\n",
      "   micro avg       0.99      0.99      0.99    204807\n",
      "   macro avg       0.57      0.78      0.61    204807\n",
      "weighted avg       1.00      0.99      0.99    204807\n",
      "\n"
     ]
    }
   ],
   "source": [
    "## Gaussian-Gaussian\n",
    "\n",
    "\n",
    "#free energy\n",
    "from sklearn.cluster import KMeans\n",
    "km = KMeans(2)\n",
    "\n",
    "nu = 0.01\n",
    "print(\"nu =\", nu)\n",
    "\n",
    "#model = svm.OneClassSVM(shrinking= True, kernel='rbf')  \n",
    "\n",
    "\n",
    "data_final2 = X_test#X_test\n",
    "\n",
    "\n",
    "#contam = 3000/len(free_energy_test) #2000/data_std.shape[0] #expectation/data_std.shape[0] #1650/data_std.shape[0] #Supposons l'existence de 1000 fraudeurs au plus\n",
    "#is_fraud_IF = []\n",
    "#is_fraud_IF, threshold =IF_reiter(free_energy_test.reshape(-1,1),{100, 150, 200, 250, 300}, is_fraud_IF,5,contam)\n",
    "\n",
    "\n",
    "#data_final2[\"isFraudRBM\"]=0\n",
    "\n",
    "#data_final2.loc[is_fraud_IF>threshold,['isFraudRBM']]=1\n",
    "#data_final2.loc[is_fraud_IF<=threshold,['isFraudRBM']]=0\n",
    "\n",
    "\n",
    "\n",
    "#data_final['free_energy'] = np.array(free_energy.reshape(-1,1))\n",
    "#preds = model.fit_predict(free_energy2.reshape(-1,1))#data_std_reduced)\n",
    "#preds = clf.predict(free_energy_test.reshape(-1,1))\n",
    "\n",
    "\n",
    "data_final2 = X_test#X_test\n",
    "tmp = pd.DataFrame(columns = ['score', 'ind'])\n",
    "tmp['score'] = np.array(free_energy_test)#pd.DataFrame(np.array(free_energy.reshape(-1,1)))#pd.DataFrame(test_target)#pd.DataFrame(np.array(free_energy.reshape(-1,1)))#\n",
    "tmp['ind'] = X_test.index#X_test.index\n",
    "\n",
    "data_final2['isFraudRBM'] = 0#abs(((preds+1)/2)-1)#0#abs(((preds+1)/2)-1)#km.fit_predict(free_energy2.reshape(-1,1))#abs(((preds+1)/2)-1)#\n",
    "\n",
    "data_final2['isFraudRBM'][tmp.sort_values('score', ascending=False).head(int(0.01*data.shape[0])).ind.values] = 1  #int(0.01*data.shape[0])\n",
    "conf_matrix(data_final2['isFraudRBM'], y_test)#y_test)\n",
    "#visualisation_2D(data_final['isFraudNN'])\n",
    "print(classification_report(y_test, data_final2['isFraudRBM']))\n",
    "\n",
    "free_energy5k = free_energy_test"
   ]
  },
  {
   "cell_type": "markdown",
   "metadata": {},
   "source": [
    "# 30 000 train"
   ]
  },
  {
   "cell_type": "code",
   "execution_count": 30,
   "metadata": {},
   "outputs": [
    {
     "name": "stdout",
     "output_type": "stream",
     "text": [
      "nu = 0.01\n",
      "Le modèle prédictif a bien identifié 279 fraudeurs, et s'est trompé sur 1769 individus non fraudeurs\n"
     ]
    },
    {
     "data": {
      "image/png": "[encoded data removed]",
      "text/plain": [
       "<Figure size 1800x432 with 1 Axes>"
      ]
     },
     "metadata": {
      "needs_background": "light"
     },
     "output_type": "display_data"
    },
    {
     "name": "stdout",
     "output_type": "stream",
     "text": [
      "              precision    recall  f1-score   support\n",
      "\n",
      "           0       1.00      0.99      1.00    204315\n",
      "           1       0.14      0.57      0.22       492\n",
      "\n",
      "   micro avg       0.99      0.99      0.99    204807\n",
      "   macro avg       0.57      0.78      0.61    204807\n",
      "weighted avg       1.00      0.99      0.99    204807\n",
      "\n"
     ]
    }
   ],
   "source": [
    "## Gaussian-Gaussian\n",
    "\n",
    "\n",
    "#free energy\n",
    "from sklearn.cluster import KMeans\n",
    "km = KMeans(2)\n",
    "\n",
    "nu = 0.01\n",
    "print(\"nu =\", nu)\n",
    "\n",
    "#model = svm.OneClassSVM(shrinking= True, kernel='rbf')  \n",
    "\n",
    "\n",
    "data_final2 = X_test#X_test\n",
    "\n",
    "\n",
    "#contam = 3000/len(free_energy_test) #2000/data_std.shape[0] #expectation/data_std.shape[0] #1650/data_std.shape[0] #Supposons l'existence de 1000 fraudeurs au plus\n",
    "#is_fraud_IF = []\n",
    "#is_fraud_IF, threshold =IF_reiter(free_energy_test.reshape(-1,1),{100, 150, 200, 250, 300}, is_fraud_IF,5,contam)\n",
    "\n",
    "\n",
    "#data_final2[\"isFraudRBM\"]=0\n",
    "\n",
    "#data_final2.loc[is_fraud_IF>threshold,['isFraudRBM']]=1\n",
    "#data_final2.loc[is_fraud_IF<=threshold,['isFraudRBM']]=0\n",
    "\n",
    "\n",
    "\n",
    "#data_final['free_energy'] = np.array(free_energy.reshape(-1,1))\n",
    "#preds = model.fit_predict(free_energy2.reshape(-1,1))#data_std_reduced)\n",
    "#preds = clf.predict(free_energy_test.reshape(-1,1))\n",
    "\n",
    "\n",
    "data_final2 = X_test#X_test\n",
    "tmp = pd.DataFrame(columns = ['score', 'ind'])\n",
    "tmp['score'] = np.array(free_energy_test)#pd.DataFrame(np.array(free_energy.reshape(-1,1)))#pd.DataFrame(test_target)#pd.DataFrame(np.array(free_energy.reshape(-1,1)))#\n",
    "tmp['ind'] = X_test.index#X_test.index\n",
    "\n",
    "data_final2['isFraudRBM'] = 0#abs(((preds+1)/2)-1)#0#abs(((preds+1)/2)-1)#km.fit_predict(free_energy2.reshape(-1,1))#abs(((preds+1)/2)-1)#\n",
    "\n",
    "data_final2['isFraudRBM'][tmp.sort_values('score', ascending=False).head(int(0.01*data.shape[0])).ind.values] = 1  #int(0.01*data.shape[0])\n",
    "conf_matrix(data_final2['isFraudRBM'], y_test)#y_test)\n",
    "#visualisation_2D(data_final['isFraudNN'])\n",
    "print(classification_report(y_test, data_final2['isFraudRBM']))\n",
    "\n",
    "\n",
    "free_energy30k = free_energy_test"
   ]
  },
  {
   "cell_type": "markdown",
   "metadata": {},
   "source": [
    "# 150 000 train"
   ]
  },
  {
   "cell_type": "code",
   "execution_count": 129,
   "metadata": {},
   "outputs": [
    {
     "name": "stdout",
     "output_type": "stream",
     "text": [
      "nu = 0.01\n",
      "Le modèle prédictif a bien identifié 406 fraudeurs, et s'est trompé sur 729 individus non fraudeurs\n"
     ]
    },
    {
     "data": {
      "image/png": "[encoded data removed]",
      "text/plain": [
       "<Figure size 1800x432 with 1 Axes>"
      ]
     },
     "metadata": {
      "needs_background": "light"
     },
     "output_type": "display_data"
    },
    {
     "name": "stdout",
     "output_type": "stream",
     "text": [
      "              precision    recall  f1-score   support\n",
      "\n",
      "           0       0.99      0.95      0.97     15000\n",
      "           1       0.36      0.83      0.50       492\n",
      "\n",
      "   micro avg       0.95      0.95      0.95     15492\n",
      "   macro avg       0.68      0.89      0.74     15492\n",
      "weighted avg       0.97      0.95      0.96     15492\n",
      "\n"
     ]
    }
   ],
   "source": [
    "## Gaussian-Gaussian\n",
    "\n",
    "\n",
    "#free energy\n",
    "from sklearn.cluster import KMeans\n",
    "km = KMeans(2)\n",
    "\n",
    "nu = 0.01\n",
    "print(\"nu =\", nu)\n",
    "\n",
    "#model = svm.OneClassSVM(shrinking= True, kernel='rbf')  \n",
    "\n",
    "\n",
    "data_final2 = X_test#X_test\n",
    "\n",
    "\n",
    "#contam = 3000/len(free_energy_test) #2000/data_std.shape[0] #expectation/data_std.shape[0] #1650/data_std.shape[0] #Supposons l'existence de 1000 fraudeurs au plus\n",
    "#is_fraud_IF = []\n",
    "#is_fraud_IF, threshold =IF_reiter(free_energy_test.reshape(-1,1),{100, 150, 200, 250, 300}, is_fraud_IF,5,contam)\n",
    "\n",
    "\n",
    "#data_final2[\"isFraudRBM\"]=0\n",
    "\n",
    "#data_final2.loc[is_fraud_IF>threshold,['isFraudRBM']]=1\n",
    "#data_final2.loc[is_fraud_IF<=threshold,['isFraudRBM']]=0\n",
    "\n",
    "\n",
    "\n",
    "#data_final['free_energy'] = np.array(free_energy.reshape(-1,1))\n",
    "#preds = model.fit_predict(free_energy2.reshape(-1,1))#data_std_reduced)\n",
    "#preds = clf.predict(free_energy_test.reshape(-1,1))\n",
    "\n",
    "\n",
    "data_final2 = X_test#X_test\n",
    "tmp = pd.DataFrame(columns = ['score', 'ind'])\n",
    "tmp['score'] = np.array(free_energy_test)#pd.DataFrame(np.array(free_energy.reshape(-1,1)))#pd.DataFrame(test_target)#pd.DataFrame(np.array(free_energy.reshape(-1,1)))#\n",
    "tmp['ind'] = X_test.index#X_test.index\n",
    "\n",
    "data_final2['isFraudRBM'] = 0#abs(((preds+1)/2)-1)#0#abs(((preds+1)/2)-1)#km.fit_predict(free_energy2.reshape(-1,1))#abs(((preds+1)/2)-1)#\n",
    "\n",
    "data_final2['isFraudRBM'][tmp.sort_values('score', ascending=False).head(expectation).ind.values] = 1  #int(0.01*data.shape[0])\n",
    "conf_matrix(data_final2['isFraudRBM'], y_test)#y_test)\n",
    "#visualisation_2D(data_final['isFraudNN'])\n",
    "print(classification_report(y_test, data_final2['isFraudRBM']))\n",
    "\n",
    "free_energy150k = free_energy_test"
   ]
  },
  {
   "cell_type": "code",
   "execution_count": null,
   "metadata": {},
   "outputs": [],
   "source": []
  },
  {
   "cell_type": "code",
   "execution_count": null,
   "metadata": {},
   "outputs": [],
   "source": []
  },
  {
   "cell_type": "code",
   "execution_count": null,
   "metadata": {},
   "outputs": [],
   "source": []
  },
  {
   "cell_type": "code",
   "execution_count": 42,
   "metadata": {},
   "outputs": [
    {
     "data": {
      "image/png": "[encoded data removed]",
      "text/plain": [
       "<Figure size 432x288 with 1 Axes>"
      ]
     },
     "metadata": {
      "needs_background": "light"
     },
     "output_type": "display_data"
    }
   ],
   "source": [
    "from sklearn.metrics import roc_curve, auc\n",
    "#fpr, tpr, _ = roc_curve(y_test, free_energy_test)\n",
    "fpr1, tpr1, _ = roc_curve(y_test, free_energy5k)\n",
    "fpr2, tpr2, _ = roc_curve(y_test, free_energy30k)\n",
    "fpr3, tpr3, _ = roc_curve(y_test, free_energy80k)\n",
    "\n",
    "\n",
    "#fpr_micro, tpr_micro, _ = roc_curve(y_test, free_energy_test)\n",
    "#roc_auc = auc(fpr_micro, tpr_micro)\n",
    "\n",
    "fpr_micro1, tpr_micro1, _ = roc_curve(y_test, free_energy80k)\n",
    "roc_auc1 = auc(fpr_micro1, tpr_micro1)\n",
    "\n",
    "#fpr_micro2, tpr_micro2, _ = roc_curve(y_test, free_energy30k)\n",
    "#roc_auc2 = auc(fpr_micro2, tpr_micro2)\n",
    "\n",
    "#fpr_micro3, tpr_micro3, _ = roc_curve(y_test, free_energy80k)\n",
    "#roc_auc3 = auc(fpr_micro3, tpr_micro3)\n",
    "\n",
    "\n",
    "plt.plot(fpr1, tpr1, \n",
    "         lw=2, label='ROC curve (area = %0.2f)' % roc_auc1)\n",
    "#plt.plot(fpr2, tpr2, \n",
    "#         lw=2, label='ROC curve (area = %0.2f)' % roc_auc2)\n",
    "#plt.plot(fpr3, tpr3, \n",
    "#         lw=2, label='ROC curve (area = %0.2f)' % roc_auc3)\n",
    "plt.plot([0, 1], [0, 1], color='navy', lw=2, linestyle='--')\n",
    "plt.xlim([0.0, 1.0])\n",
    "plt.ylim([0.0, 1.05])\n",
    "plt.xlabel('False Positive Rate')\n",
    "plt.ylabel('True Positive Rate')\n",
    "plt.title('ROC curve on test set')\n",
    "plt.legend(loc=\"lower right\")\n",
    "plt.show()"
   ]
  },
  {
   "cell_type": "code",
   "execution_count": 41,
   "metadata": {},
   "outputs": [
    {
     "data": {
      "image/png": "[encoded data removed]",
      "text/plain": [
       "<Figure size 432x288 with 1 Axes>"
      ]
     },
     "metadata": {
      "needs_background": "light"
     },
     "output_type": "display_data"
    }
   ],
   "source": [
    "from sklearn.metrics import precision_recall_curve\n",
    "\n",
    "def plot_precision_recall(lines):\n",
    "    \n",
    "\n",
    "    for precision, recall, label in lines:\n",
    "        plt.plot(recall, precision, label=label)\n",
    "    plt.xlabel('Recall')\n",
    "    plt.ylabel('Precision')\n",
    "    plt.ylim([0.0, 1.05])\n",
    "    plt.xlim([0.0, 1.0])\n",
    "    plt.title('Precision-Recall')\n",
    "    plt.legend(loc=\"upper right\")\n",
    "    plt.show()\n",
    "    \n",
    "lines = []\n",
    "precision, recall, threshold = precision_recall_curve(y_test, free_energy5k)\n",
    "#precision1, recall1, threshold1 = precision_recall_curve(y_test, free_energy30k)\n",
    "#precision2, recall2, threshold2 = precision_recall_curve(y_test, free_energy80k)\n",
    "\n",
    "lines.append( (precision, recall, 'Precision Recall Curve') )\n",
    "#lines.append( (precision1, recall1, 'Precision Recall Curve') )\n",
    "#lines.append( (precision2, recall2, 'Precision Recall Curve') )\n",
    "\n",
    "plot_precision_recall(lines)"
   ]
  },
  {
   "cell_type": "code",
   "execution_count": 38,
   "metadata": {},
   "outputs": [
    {
     "data": {
      "text/plain": [
       "[(array([0.00283605, 0.0028303 , 0.00283031, ..., 0.        , 0.        ,\n",
       "         1.        ]),\n",
       "  array([1.        , 0.99796748, 0.99796748, ..., 0.        , 0.        ,\n",
       "         0.        ]),\n",
       "  'Precision Recall Curve'),\n",
       " (array([0.00282972, 0.00282398, 0.002824  , ..., 0.        , 0.        ,\n",
       "         1.        ]),\n",
       "  array([1.        , 0.99796748, 0.99796748, ..., 0.        , 0.        ,\n",
       "         0.        ]),\n",
       "  'Precision Recall Curve')]"
      ]
     },
     "execution_count": 38,
     "metadata": {},
     "output_type": "execute_result"
    }
   ],
   "source": [
    "lines"
   ]
  },
  {
   "cell_type": "code",
   "execution_count": 50,
   "metadata": {},
   "outputs": [],
   "source": [
    "data2 = X_test\n",
    "data2['Class'] = y_test"
   ]
  },
  {
   "cell_type": "code",
   "execution_count": 92,
   "metadata": {
    "scrolled": false
   },
   "outputs": [
    {
     "name": "stdout",
     "output_type": "stream",
     "text": [
      "Le modèle prédictif a bien identifié 91 fraudeurs, et s'est trompé sur 909 individus non fraudeurs\n"
     ]
    },
    {
     "data": {
      "image/png": "[encoded data removed]",
      "text/plain": [
       "<Figure size 1800x432 with 1 Axes>"
      ]
     },
     "metadata": {
      "needs_background": "light"
     },
     "output_type": "display_data"
    },
    {
     "name": "stdout",
     "output_type": "stream",
     "text": [
      "              precision    recall  f1-score   support\n",
      "\n",
      "           0       0.99      0.98      0.99     56863\n",
      "           1       0.09      0.18      0.12       492\n",
      "\n",
      "   micro avg       0.98      0.98      0.98     57355\n",
      "   macro avg       0.54      0.58      0.56     57355\n",
      "weighted avg       0.99      0.98      0.98     57355\n",
      "\n"
     ]
    }
   ],
   "source": [
    "data_final = data2 #_tst2\n",
    "free_energy2 = rbm.free_energy_calc(test_set)\n",
    "\n",
    "\n",
    "\n",
    "data_final['free_energy'] = np.array(free_energy.reshape(-1,1))\n",
    "t = pd.DataFrame(data_final['free_energy'])\n",
    "t['ind'] = X_test.index\n",
    "data_final['isFraudRBM'] = 0 #np.zeros(len(data_std))\n",
    "#data_final.loc[t.sort_values(by=0, ascending=False).head(1000).ind.values,:]['isFraudRBM'] = 1 #\n",
    "data_final['isFraudRBM'][t.sort_values('free_energy', ascending=False).head(1000).ind.values] = 1\n",
    "\n",
    "conf_matrix(data_final['isFraudRBM'])\n",
    "#visualisation_2D(data_final['isFraudNN'])\n",
    "print(classification_report(data_final.Class, data_final['isFraudRBM']))"
   ]
  },
  {
   "cell_type": "code",
   "execution_count": null,
   "metadata": {},
   "outputs": [],
   "source": []
  }
 ],
 "metadata": {
  "kernelspec": {
   "display_name": "Python 3",
   "language": "python",
   "name": "python3"
  },
  "language_info": {
   "codemirror_mode": {
    "name": "ipython",
    "version": 3
   },
   "file_extension": ".py",
   "mimetype": "text/x-python",
   "name": "python",
   "nbconvert_exporter": "python",
   "pygments_lexer": "ipython3",
   "version": "3.8.3"
  }
 },
 "nbformat": 4,
 "nbformat_minor": 2
}
